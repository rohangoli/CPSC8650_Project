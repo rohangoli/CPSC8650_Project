{
 "cells": [
  {
   "cell_type": "code",
   "execution_count": 1,
   "id": "6889786a-1ab6-45b8-b423-ece44857c28d",
   "metadata": {},
   "outputs": [],
   "source": [
    "import os\n",
    "import zipfile\n",
    "import numpy as np\n",
    "import tensorflow as tf\n",
    "import nibabel as nib\n",
    "\n",
    "from tensorflow import keras\n",
    "from tensorflow.keras import layers\n",
    "\n",
    "from scipy import ndimage"
   ]
  },
  {
   "cell_type": "code",
   "execution_count": 2,
   "id": "6ceb1b6f-63bd-4cc9-8d11-e854854bf71e",
   "metadata": {},
   "outputs": [
    {
     "name": "stdout",
     "output_type": "stream",
     "text": [
      "Brain scans: 4\n"
     ]
    }
   ],
   "source": [
    "scan_paths = [\n",
    "    os.path.join(os.getcwd(), \"../BET_BSE_DATA\", x)\n",
    "    for x in os.listdir(\"../BET_BSE_DATA\")\n",
    "]\n",
    "\n",
    "print(\"Brain scans: \" + str(len(scan_paths)))"
   ]
  },
  {
   "cell_type": "code",
   "execution_count": 3,
   "id": "141ed6e4-6126-4692-aa99-eb297f90c341",
   "metadata": {},
   "outputs": [],
   "source": [
    "def read_nifti_file(filepath):\n",
    "    \"\"\"Read and load volume\"\"\"\n",
    "    # Read file\n",
    "    scan = nib.load(filepath)\n",
    "    # Get raw data\n",
    "    scan = scan.get_fdata()\n",
    "    return scan\n",
    "\n",
    "\n",
    "def normalize(volume):\n",
    "    \"\"\"Normalize the volume\"\"\"\n",
    "    min = -1000\n",
    "    max = 400\n",
    "    volume[volume < min] = min\n",
    "    volume[volume > max] = max\n",
    "    volume = (volume - min) / (max - min)\n",
    "    volume = volume.astype(\"float32\")\n",
    "    return volume\n",
    "\n",
    "\n",
    "def resize_volume(img):\n",
    "    \"\"\"Resize across z-axis\"\"\"\n",
    "    # Set the desired depth\n",
    "    desired_depth = 64\n",
    "    desired_width = 128\n",
    "    desired_height = 128\n",
    "    # Get current depth\n",
    "    current_depth = img.shape[-1]\n",
    "    current_width = img.shape[0]\n",
    "    current_height = img.shape[1]\n",
    "    # Compute depth factor\n",
    "    depth = current_depth / desired_depth\n",
    "    width = current_width / desired_width\n",
    "    height = current_height / desired_height\n",
    "    depth_factor = 1 / depth\n",
    "    width_factor = 1 / width\n",
    "    height_factor = 1 / height\n",
    "    # Rotate\n",
    "    img = ndimage.rotate(img, 90, reshape=False)\n",
    "    # Resize across z-axis\n",
    "    img = ndimage.zoom(img, (width_factor, height_factor, depth_factor), order=1)\n",
    "    return img\n",
    "\n",
    "\n",
    "def process_scan(path):\n",
    "    \"\"\"Read and resize volume\"\"\"\n",
    "    # Read scan\n",
    "    volume = read_nifti_file(path)\n",
    "    # Normalize\n",
    "    volume = normalize(volume)\n",
    "    # Resize width, height and depth\n",
    "    volume = resize_volume(volume)\n",
    "    return volume"
   ]
  },
  {
   "cell_type": "code",
   "execution_count": 13,
   "id": "480ebc67-6cc4-42e7-8638-7629f0d4ef70",
   "metadata": {},
   "outputs": [
    {
     "name": "stdout",
     "output_type": "stream",
     "text": [
      "Total no. of rows: 1312\n",
      "Field names are:Filename, Recognizable-Facial-Feature, Brain-Feature-Loss\n"
     ]
    }
   ],
   "source": [
    "import csv\n",
    " \n",
    "# csv file name\n",
    "filename = \"/home/joelkik/DataMining/BET_BSE_DATA/Label_file.csv\"\n",
    " \n",
    "# initializing the titles and rows list\n",
    "fields = []\n",
    "labels_facical_feature_dict = dict()\n",
    "labels_brain_feature_dict = dict()\n",
    " \n",
    "# reading csv file\n",
    "with open(filename, 'r') as csvfile:\n",
    "    # creating a csv reader object\n",
    "    csvreader = csv.reader(csvfile)\n",
    "     \n",
    "    # extracting field names through first row\n",
    "    fields = next(csvreader)\n",
    " \n",
    "    # extracting each data row one by one\n",
    "    for row in csvreader:\n",
    "        #print(row)\n",
    "        if row[1].lower() == 'yes':\n",
    "            labels_facical_feature_dict[row[0]+'.gz'] = 1\n",
    "        else:\n",
    "            labels_facical_feature_dict[row[0]+'.gz'] = 0\n",
    "        if row[2].lower() == 'yes':\n",
    "            labels_brain_feature_dict[row[0]+'.gz'] = 1\n",
    "        else:\n",
    "            labels_brain_feature_dict[row[0]+'.gz'] = 0\n",
    " \n",
    "    # get total number of rows\n",
    "    print(\"Total no. of rows: %d\"%(csvreader.line_num))\n",
    " \n",
    "# printing the field names\n",
    "print('Field names are:' + ', '.join(field for field in fields))\n",
    "#print(labels_dict)"
   ]
  },
  {
   "cell_type": "code",
   "execution_count": 14,
   "id": "c2e4329f-2e50-47c8-9958-da925d6fab38",
   "metadata": {},
   "outputs": [],
   "source": [
    "brain_scans=[]\n",
    "labels_facial_feature=[]\n",
    "labels_brain_feature=[]\n",
    "labels_to_file=[]\n",
    "for path in os.listdir(\"/home/joelkik/DataMining/BET_BSE_DATA/files\")[:20]:\n",
    "    brain_scans.append(process_scan(\"/home/joelkik/DataMining/BET_BSE_DATA/files/\"+path))\n",
    "    labels_facial_feature.append(labels_facical_feature_dict[path])\n",
    "    labels_brain_feature.append(labels_brain_feature_dict[path])\n",
    "    labels_to_file.append(path)"
   ]
  },
  {
   "cell_type": "code",
   "execution_count": 15,
   "id": "e0b0035c-7196-4928-88cd-5e420fe6a074",
   "metadata": {},
   "outputs": [],
   "source": [
    "brain_scans_np = np.array(brain_scans)\n",
    "labels_facial_feature_np = np.array(labels_facial_feature)"
   ]
  },
  {
   "cell_type": "code",
   "execution_count": 16,
   "id": "ddadc472-2fda-4102-baf4-5ebb15109992",
   "metadata": {},
   "outputs": [],
   "source": [
    "model = keras.models.load_model(\"/home/joelkik/DataMining/CPSC8650_Project/3d_brain_image_classification.h5\")"
   ]
  },
  {
   "cell_type": "code",
   "execution_count": 17,
   "id": "f148a2df-0883-4882-9474-c4bf69f18ac9",
   "metadata": {},
   "outputs": [
    {
     "name": "stdout",
     "output_type": "stream",
     "text": [
      "Scan File:  IXI476-IOP-1140-T1_bse_less_s47_r1.nii.gz , Actual:  1 , Predicted:  1\n",
      "Scan File:  IXI048-HH-1326-T1_bse_less_s44_r1.nii.gz , Actual:  1 , Predicted:  1\n",
      "Scan File:  IXI554-Guys-1068-T1_bet_18.nii.gz , Actual:  1 , Predicted:  1\n",
      "Scan File:  IXI115-Guys-0738-T1_bse_high_s76_r2.nii.gz , Actual:  0 , Predicted:  0\n",
      "Scan File:  IXI156-Guys-0837-T1_bse_less_s42_r1.nii.gz , Actual:  1 , Predicted:  1\n",
      "Scan File:  IXI218-HH-1815-T1_bse_high_s74_r2.nii.gz , Actual:  0 , Predicted:  0\n",
      "Scan File:  IXI038-Guys-0729-T1_bet_85.nii.gz , Actual:  0 , Predicted:  0\n",
      "Scan File:  IXI464-IOP-1029-T1_bse_default.nii.gz , Actual:  1 , Predicted:  1\n",
      "Scan File:  IXI435-IOP-1040-T1_bet_82.nii.gz , Actual:  0 , Predicted:  0\n",
      "Scan File:  IXI350-Guys-0908-T1_bet_82.nii.gz , Actual:  0 , Predicted:  0\n",
      "Scan File:  IXI013-HH-1212-T1_bet_19.nii.gz , Actual:  1 , Predicted:  1\n",
      "Scan File:  IXI607-Guys-1097-T1_bse_less_s56_r1.nii.gz , Actual:  1 , Predicted:  1\n",
      "Scan File:  IXI350-Guys-0908-T1_bet_1.nii.gz , Actual:  1 , Predicted:  1\n",
      "Scan File:  IXI385-HH-2078-T1_bet_05.nii.gz , Actual:  1 , Predicted:  1\n",
      "Scan File:  IXI627-Guys-1103-T1_bse_less_s56_r1.nii.gz , Actual:  1 , Predicted:  1\n",
      "Scan File:  IXI015-HH-1258-T1_bet_14.nii.gz , Actual:  1 , Predicted:  1\n",
      "Scan File:  IXI099-Guys-0748-T1_bet_88.nii.gz , Actual:  0 , Predicted:  0\n",
      "Scan File:  IXI606-HH-2601-T1_bet_05.nii.gz , Actual:  1 , Predicted:  1\n",
      "Scan File:  IXI178-Guys-0778-T1_bet_1.nii.gz , Actual:  1 , Predicted:  1\n",
      "Scan File:  IXI619-Guys-1099-T1_bse_high_s78_r2.nii.gz , Actual:  0 , Predicted:  0\n"
     ]
    }
   ],
   "source": [
    "for i in range(len(brain_scans)):\n",
    "    prediction = model.predict(np.expand_dims(brain_scans_np[i], axis=0))[0]\n",
    "    print(\"Scan File: \", labels_to_file[i], \", Actual: \", labels_facial_feature_np[i], \", Predicted: \",round(float(prediction)))"
   ]
  },
  {
   "cell_type": "code",
   "execution_count": 18,
   "id": "c6d03f95-3cc3-4c3c-99c4-e84896db6289",
   "metadata": {},
   "outputs": [],
   "source": [
    "model = keras.models.load_model(\"/home/joelkik/DataMining/CPSC8650_Project/3d_brain_feature_loss_model.h5\")"
   ]
  },
  {
   "cell_type": "code",
   "execution_count": 19,
   "id": "927ce761-4e77-4050-b6b3-e677bc712ba3",
   "metadata": {},
   "outputs": [
    {
     "name": "stdout",
     "output_type": "stream",
     "text": [
      "Scan File:  IXI476-IOP-1140-T1_bse_less_s47_r1.nii.gz , Actual:  0 , Predicted:  0\n",
      "Scan File:  IXI048-HH-1326-T1_bse_less_s44_r1.nii.gz , Actual:  0 , Predicted:  0\n",
      "Scan File:  IXI554-Guys-1068-T1_bet_18.nii.gz , Actual:  0 , Predicted:  0\n",
      "Scan File:  IXI115-Guys-0738-T1_bse_high_s76_r2.nii.gz , Actual:  1 , Predicted:  1\n",
      "Scan File:  IXI156-Guys-0837-T1_bse_less_s42_r1.nii.gz , Actual:  0 , Predicted:  0\n",
      "Scan File:  IXI218-HH-1815-T1_bse_high_s74_r2.nii.gz , Actual:  1 , Predicted:  1\n",
      "Scan File:  IXI038-Guys-0729-T1_bet_85.nii.gz , Actual:  1 , Predicted:  1\n",
      "Scan File:  IXI464-IOP-1029-T1_bse_default.nii.gz , Actual:  0 , Predicted:  0\n",
      "Scan File:  IXI435-IOP-1040-T1_bet_82.nii.gz , Actual:  1 , Predicted:  1\n",
      "Scan File:  IXI350-Guys-0908-T1_bet_82.nii.gz , Actual:  1 , Predicted:  1\n",
      "Scan File:  IXI013-HH-1212-T1_bet_19.nii.gz , Actual:  0 , Predicted:  0\n",
      "Scan File:  IXI607-Guys-1097-T1_bse_less_s56_r1.nii.gz , Actual:  0 , Predicted:  0\n",
      "Scan File:  IXI350-Guys-0908-T1_bet_1.nii.gz , Actual:  0 , Predicted:  0\n",
      "Scan File:  IXI385-HH-2078-T1_bet_05.nii.gz , Actual:  0 , Predicted:  0\n",
      "Scan File:  IXI627-Guys-1103-T1_bse_less_s56_r1.nii.gz , Actual:  0 , Predicted:  0\n",
      "Scan File:  IXI015-HH-1258-T1_bet_14.nii.gz , Actual:  0 , Predicted:  0\n",
      "Scan File:  IXI099-Guys-0748-T1_bet_88.nii.gz , Actual:  1 , Predicted:  1\n",
      "Scan File:  IXI606-HH-2601-T1_bet_05.nii.gz , Actual:  0 , Predicted:  0\n",
      "Scan File:  IXI178-Guys-0778-T1_bet_1.nii.gz , Actual:  0 , Predicted:  0\n",
      "Scan File:  IXI619-Guys-1099-T1_bse_high_s78_r2.nii.gz , Actual:  1 , Predicted:  1\n"
     ]
    }
   ],
   "source": [
    "for i in range(len(brain_scans)):\n",
    "    prediction = model.predict(np.expand_dims(brain_scans_np[i], axis=0))[0]\n",
    "    print(\"Scan File: \", labels_to_file[i], \", Actual: \", labels_brain_feature[i], \", Predicted: \",round(float(prediction)))"
   ]
  },
  {
   "cell_type": "code",
   "execution_count": null,
   "id": "8a2b78cc-b27f-4a4c-ae07-586cace94537",
   "metadata": {},
   "outputs": [],
   "source": []
  },
  {
   "cell_type": "code",
   "execution_count": null,
   "id": "152f48ec-865c-4950-94b6-5cd1530c1d9d",
   "metadata": {},
   "outputs": [],
   "source": []
  }
 ],
 "metadata": {
  "kernelspec": {
   "display_name": "tf",
   "language": "python",
   "name": "tf"
  },
  "language_info": {
   "codemirror_mode": {
    "name": "ipython",
    "version": 3
   },
   "file_extension": ".py",
   "mimetype": "text/x-python",
   "name": "python",
   "nbconvert_exporter": "python",
   "pygments_lexer": "ipython3",
   "version": "3.8.12"
  }
 },
 "nbformat": 4,
 "nbformat_minor": 5
}
