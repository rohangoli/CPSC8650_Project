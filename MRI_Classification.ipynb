{
 "cells": [
  {
   "cell_type": "code",
   "execution_count": 70,
   "id": "cce73b96-8b38-47ac-827f-0c34527aad3a",
   "metadata": {},
   "outputs": [],
   "source": [
    "# !module add p7zip/16.02-gcc/8.4.1\n",
    "# !wget --header 'Host: doc-08-2g-docs.googleusercontent.com' --user-agent 'Mozilla/5.0 (X11; Ubuntu; Linux x86_64; rv:87.0) Gecko/20100101 Firefox/87.0' --header 'Accept: text/html,application/xhtml+xml,application/xml;q=0.9,image/webp,*/*;q=0.8' --header 'Accept-Language: en-US,en;q=0.5' --referer 'https://drive.google.com/' --header 'Cookie: AUTH_9k7m8g8qrj7at7i0b1sl7f8s8gafrr77_nonce=fchj71prkosgs' --header 'Upgrade-Insecure-Requests: 1' 'https://doc-08-2g-docs.googleusercontent.com/docs/securesc/5baff4djp5n2ak1832to2m6lltldb4gl/lld851i2e7pqe774volddlu45niullkl/1621202400000/00677992938550103544/12785117600840412092/1N1Qx-R5tLCX5EhXPoPdyg6YvEkDtf-cD?e=download&authuser=0&nonce=fchj71prkosgs&user=12785117600840412092&hash=0lccq4nigav75jop1timeo66ook4s4q1' --output-document 'ANTs-28-03-2019.7z'\n",
    "# !7z x ANTs-28-03-2019.7z\n",
    "# !cp bin/* /home/rgoli/.local/bin"
   ]
  },
  {
   "cell_type": "code",
   "execution_count": 108,
   "id": "541539cf-7207-4cb3-9697-156e8f05f222",
   "metadata": {},
   "outputs": [],
   "source": [
    "import tensorflow as tf\n",
    "# tf.compat.v1.enable_eager_execution()\n",
    "from tensorflow import keras\n",
    "from tensorflow.keras.layers import *\n",
    "from tensorflow.keras.preprocessing import image\n",
    "from tensorflow.keras.models import Model, load_model\n",
    "from tensorflow.keras.layers import concatenate,Dropout, Dense, GlobalAveragePooling3D, MaxPool3D\n",
    "from tensorflow.keras.layers import Multiply, MaxPooling2D, GlobalMaxPooling2D\n",
    "from tensorflow.keras.callbacks import EarlyStopping, ModelCheckpoint\n",
    "from tensorflow.keras import backend as K\n",
    "from tensorflow.keras.layers import Input, Add, Dense, Activation, ZeroPadding2D\n",
    "from tensorflow.keras.layers import BatchNormalization, Flatten, Conv2D, AveragePooling2D\n",
    "from tensorflow.keras.models import Model, load_model\n",
    "from tensorflow.keras.callbacks import EarlyStopping, ModelCheckpoint, ReduceLROnPlateau\n",
    "from tensorflow.keras.utils import plot_model\n",
    "from tensorflow.keras.initializers import glorot_uniform\n",
    "from tensorflow.keras.optimizers import Adam\n",
    "from tensorflow.keras.callbacks import ModelCheckpoint\n",
    "from tensorflow.keras.preprocessing.image import ImageDataGenerator"
   ]
  },
  {
   "cell_type": "code",
   "execution_count": 55,
   "id": "cffb5944-c88a-4d3f-b46a-b18436347099",
   "metadata": {},
   "outputs": [],
   "source": [
    "import nibabel as nib\n",
    "import numpy as np\n",
    "import pandas as pd\n",
    "import os\n",
    "import matplotlib.pyplot as plt\n",
    "%matplotlib inline\n",
    "\n",
    "from tqdm import tqdm\n",
    "\n",
    "from nipype.interfaces.slicer.filtering.n4itkbiasfieldcorrection import N4ITKBiasFieldCorrection\n",
    "from nipype import Node, Workflow\n",
    "\n",
    "import SimpleITK as sitk\n",
    "from nilearn.image import math_img\n",
    "from nilearn import image as nii\n",
    "from nilearn import plotting\n",
    "from nipype.interfaces.ants import N4BiasFieldCorrection\n",
    "from nilearn.image import resample_img"
   ]
  },
  {
   "cell_type": "code",
   "execution_count": 93,
   "id": "84ea587c-6897-41f1-abf2-4fc4f9e20292",
   "metadata": {},
   "outputs": [],
   "source": [
    "DATA_FOLDER = \"data/BET_BSE_DATA/\""
   ]
  },
  {
   "cell_type": "code",
   "execution_count": 94,
   "id": "370ccc50-e0ec-49d4-9d95-06c8afe5fa80",
   "metadata": {},
   "outputs": [
    {
     "name": "stdout",
     "output_type": "stream",
     "text": [
      "Shape of image= (256, 256, 150)\n"
     ]
    }
   ],
   "source": [
    "img=nib.load(DATA_FOLDER+'files/IXI662-Guys-1120-T1_bse_less_s46_r1.nii.gz')\n",
    "print('Shape of image=',img.shape)"
   ]
  },
  {
   "cell_type": "code",
   "execution_count": 95,
   "id": "98f53473-6eaa-46f9-83c8-74fae30cb2be",
   "metadata": {},
   "outputs": [],
   "source": [
    "mri_image_files = os.listdir(DATA_FOLDER+'/files')"
   ]
  },
  {
   "cell_type": "code",
   "execution_count": 96,
   "id": "2d19c676-2c22-4ac7-9fba-ebab4a0763cf",
   "metadata": {},
   "outputs": [
    {
     "name": "stdout",
     "output_type": "stream",
     "text": [
      "['IXI369-Guys-0924-T1_bse_high_s75_r2.nii.gz', 'IXI270-Guys-0847-T1_bet_88.nii.gz', 'IXI333-IOP-0926-T1_bse_default.nii.gz', 'IXI483-HH-2177-T1_bet_12.nii.gz', 'IXI464-IOP-1029-T1_bet_08.nii.gz', 'IXI205-HH-1649-T1_bet_73.nii.gz', 'IXI544-HH-2395-T1_bse_less_s51_r1.nii.gz', 'IXI033-HH-1259-T1_bet_76.nii.gz', 'IXI260-HH-1805-T1_bet_12.nii.gz', 'IXI241-Guys-0833-T1_bse_high_s74_r2.nii.gz']\n"
     ]
    }
   ],
   "source": [
    "print(mri_image_files[0:10])"
   ]
  },
  {
   "cell_type": "code",
   "execution_count": 124,
   "id": "1ba51b8f-1f62-470e-9c43-0e9557e881fb",
   "metadata": {},
   "outputs": [],
   "source": [
    "labels = pd.read_csv(DATA_FOLDER+'Label_file.csv')\n",
    "labels['Filename'] = DATA_FOLDER+'files/'+labels['Filename'].astype(str)+'.gz'\n",
    "labels.loc[labels['Recognizable-Facial-Feature'] == 'Yes', 'Recognizable-Facial-Feature'] = 1\n",
    "labels.loc[labels['Recognizable-Facial-Feature'] == 'No', 'Recognizable-Facial-Feature'] = 0\n",
    "labels.loc[labels['Brain-Feature-Loss'] == 'Yes', 'Brain-Feature-Loss'] = 1\n",
    "labels.loc[labels['Brain-Feature-Loss'] == 'No', 'Brain-Feature-Loss'] = 0\n",
    "# labels['Brain-Feature-Loss'] = labels['Brain-Feature-Loss'].astype(int)"
   ]
  },
  {
   "cell_type": "code",
   "execution_count": 125,
   "id": "152f3b5a-ded7-46ae-b8b1-7cacf49b59c9",
   "metadata": {},
   "outputs": [
    {
     "data": {
      "text/html": [
       "<div>\n",
       "<style scoped>\n",
       "    .dataframe tbody tr th:only-of-type {\n",
       "        vertical-align: middle;\n",
       "    }\n",
       "\n",
       "    .dataframe tbody tr th {\n",
       "        vertical-align: top;\n",
       "    }\n",
       "\n",
       "    .dataframe thead th {\n",
       "        text-align: right;\n",
       "    }\n",
       "</style>\n",
       "<table border=\"1\" class=\"dataframe\">\n",
       "  <thead>\n",
       "    <tr style=\"text-align: right;\">\n",
       "      <th></th>\n",
       "      <th>Filename</th>\n",
       "      <th>Recognizable-Facial-Feature</th>\n",
       "      <th>Brain-Feature-Loss</th>\n",
       "    </tr>\n",
       "  </thead>\n",
       "  <tbody>\n",
       "    <tr>\n",
       "      <th>0</th>\n",
       "      <td>data/BET_BSE_DATA/files/IXI369-Guys-0924-T1_be...</td>\n",
       "      <td>1</td>\n",
       "      <td>0</td>\n",
       "    </tr>\n",
       "    <tr>\n",
       "      <th>1</th>\n",
       "      <td>data/BET_BSE_DATA/files/IXI448-HH-2393-T1_bet_...</td>\n",
       "      <td>1</td>\n",
       "      <td>0</td>\n",
       "    </tr>\n",
       "    <tr>\n",
       "      <th>2</th>\n",
       "      <td>data/BET_BSE_DATA/files/IXI252-HH-1693-T1_bet_...</td>\n",
       "      <td>1</td>\n",
       "      <td>0</td>\n",
       "    </tr>\n",
       "    <tr>\n",
       "      <th>3</th>\n",
       "      <td>data/BET_BSE_DATA/files/IXI188-Guys-0798-T1_be...</td>\n",
       "      <td>1</td>\n",
       "      <td>0</td>\n",
       "    </tr>\n",
       "    <tr>\n",
       "      <th>4</th>\n",
       "      <td>data/BET_BSE_DATA/files/IXI182-Guys-0792-T1_be...</td>\n",
       "      <td>1</td>\n",
       "      <td>0</td>\n",
       "    </tr>\n",
       "  </tbody>\n",
       "</table>\n",
       "</div>"
      ],
      "text/plain": [
       "                                            Filename  \\\n",
       "0  data/BET_BSE_DATA/files/IXI369-Guys-0924-T1_be...   \n",
       "1  data/BET_BSE_DATA/files/IXI448-HH-2393-T1_bet_...   \n",
       "2  data/BET_BSE_DATA/files/IXI252-HH-1693-T1_bet_...   \n",
       "3  data/BET_BSE_DATA/files/IXI188-Guys-0798-T1_be...   \n",
       "4  data/BET_BSE_DATA/files/IXI182-Guys-0792-T1_be...   \n",
       "\n",
       "  Recognizable-Facial-Feature Brain-Feature-Loss  \n",
       "0                           1                  0  \n",
       "1                           1                  0  \n",
       "2                           1                  0  \n",
       "3                           1                  0  \n",
       "4                           1                  0  "
      ]
     },
     "execution_count": 125,
     "metadata": {},
     "output_type": "execute_result"
    }
   ],
   "source": [
    "labels.head()"
   ]
  },
  {
   "cell_type": "code",
   "execution_count": 105,
   "id": "f4a1cfbf-9ffb-4893-95b5-8115a5070194",
   "metadata": {},
   "outputs": [
    {
     "data": {
      "text/plain": [
       "(1311, 3)"
      ]
     },
     "execution_count": 105,
     "metadata": {},
     "output_type": "execute_result"
    }
   ],
   "source": [
    "labels.shape"
   ]
  },
  {
   "cell_type": "code",
   "execution_count": 102,
   "id": "5adf2b68-a6b8-4959-ac5a-4ed005acf897",
   "metadata": {},
   "outputs": [
    {
     "data": {
      "text/plain": [
       "'data/BET_BSE_DATA/files/IXI448-HH-2393-T1_bet_07.nii.gz'"
      ]
     },
     "execution_count": 102,
     "metadata": {},
     "output_type": "execute_result"
    }
   ],
   "source": [
    "labels.iloc[1]['Filename']"
   ]
  },
  {
   "cell_type": "code",
   "execution_count": 104,
   "id": "c0fe2bcd-481c-4542-9ecc-bc3e603164c8",
   "metadata": {},
   "outputs": [
    {
     "name": "stderr",
     "output_type": "stream",
     "text": [
      "/local_scratch/pbs.4658666.pbs02/ipykernel_3555832/2273036769.py:5: DeprecationWarning: get_data() is deprecated in favor of get_fdata(), which has a more predictable return type. To obtain get_data() behavior going forward, use numpy.asanyarray(img.dataobj).\n",
      "\n",
      "* deprecated from version: 3.0\n",
      "* Will raise <class 'nibabel.deprecator.ExpiredDeprecationError'> as of version: 5.0\n",
      "  img = nib.load(labels.iloc[i]['Filename']).get_data()\n"
     ]
    },
    {
     "data": {
      "image/png": "[encoded data removed]",
      "text/plain": [
       "<Figure size 432x288 with 3 Axes>"
      ]
     },
     "metadata": {
      "needs_background": "light"
     },
     "output_type": "display_data"
    }
   ],
   "source": [
    "#lets visualize a couple of examples\n",
    "fig,ax=plt.subplots(1,3)\n",
    "for i in range(3):\n",
    "    ax[i].set_title('Raw image')\n",
    "    img = nib.load(labels.iloc[i]['Filename']).get_data()\n",
    "    ax[i].imshow(img[img.shape[0]//2])"
   ]
  },
  {
   "cell_type": "code",
   "execution_count": 71,
   "id": "e17aabc9-bb09-4648-ba12-50e30e0e6deb",
   "metadata": {},
   "outputs": [],
   "source": [
    "## Bias Correction\n",
    "# n4 = N4BiasFieldCorrection()\n",
    "# n4.inputs.dimension = 3\n",
    "# n4.inputs.shrink_factor = 3\n",
    "# n4.inputs.n_iterations = [20, 10, 10, 5]\n",
    "\n",
    "# # !mkdir data/BET_BSE_DATA/bias_correction\n",
    "\n",
    "# index_corr=[]\n",
    "# for i in tqdm(range(len(mri_image_files))):\n",
    "#     file_name = mri_image_files[i]\n",
    "#     n4.inputs.input_image = file_name\n",
    "#     n4.inputs.output_image ='data/BET_BSE_DATA/bias_correction/'+file_name+'.gz'\n",
    "#     index_corr.append('data/BET_BSE_DATA/bias_correction/'+file_name+'.gz')\n",
    "#     res = n4.run()\n",
    "\n",
    "# #index_corr=['data/BET_BSE_DATA/bias_correction/'+str(i)+'.nii.gz' for i in range(125)]\n",
    "# #data['bias_corr']=index_corr\n",
    "# print('Bias corrected images stored at : data/BET_BSE_DATA/bias_correction/')"
   ]
  },
  {
   "cell_type": "code",
   "execution_count": 73,
   "id": "8d215877-86d1-4070-9bdd-6ea22dae39a7",
   "metadata": {},
   "outputs": [],
   "source": [
    "# !module list"
   ]
  },
  {
   "cell_type": "code",
   "execution_count": 74,
   "id": "e12ade46-3708-4801-a0a6-28e5ee0bcf41",
   "metadata": {},
   "outputs": [],
   "source": [
    "# !module add ant/1.9.6-gcc/8.3.1"
   ]
  },
  {
   "cell_type": "code",
   "execution_count": 153,
   "id": "d634e6f4-af06-4891-ad54-296f8f4a054c",
   "metadata": {},
   "outputs": [],
   "source": [
    "from sklearn.model_selection import train_test_split\n",
    "\n",
    "class model():\n",
    "    def __init__(self,):\n",
    "        pass\n",
    "    \n",
    "    def split(self,df):\n",
    "        self.X_train,self.X_test,self.y_train,self.y_test=train_test_split(df[['Filename']], df[['Recognizable-Facial-Feature']],test_size=0.2)\n",
    "        return self.X_train,self.X_test,self.y_train,self.y_test\n",
    "\n",
    "    def data_gen(self,images, targets, batch_size):\n",
    "        '''Custom data generator to feed image to model'''\n",
    "        c = 0\n",
    "        n = [i for i in range(len(df))]  #List of training images\n",
    "        random.shuffle(n)\n",
    "    \n",
    "        while (True):\n",
    "            img = np.zeros((batch_size, 256, 256, 150,1)).astype('float')   #adding extra dimensions as conv3d takes file of size 5\n",
    "            tgt = np.zeros((batch_size)).astype('float')\n",
    "            \n",
    "            for i in range(c, c+batch_size): \n",
    "                train_img = nib.load(images[n[i]]).get_data()\n",
    "                train_img=np.expand_dims(train_img,-1)\n",
    "                img[i-c]=train_img\n",
    "                tgt[i-c]=targets[n[i]]\n",
    "\n",
    "            c+=batch_size\n",
    "            if(c+batch_size>=len(img_list)):\n",
    "                c=0\n",
    "                random.shuffle(n)\n",
    "\n",
    "            yield img,tgt\n",
    "\n",
    "    def convolutional_block(input, filters=3, kernel_size=3, batchnorm = True):\n",
    "        '''conv layer followed by batchnormalization'''\n",
    "        x = Conv3D(filters = filters, kernel_size = (kernel_size, kernel_size,kernel_size),\n",
    "                   kernel_initializer = 'he_normal', padding = 'same')(input)\n",
    "        if batchnorm:\n",
    "            x = BatchNormalization()(x)\n",
    "        x = Activation('relu')(x)\n",
    "        x = Conv3D(filters = filters, kernel_size = (kernel_size, kernel_size,kernel_size),\n",
    "                   kernel_initializer = 'he_normal', padding = 'same')(input)\n",
    "        if batchnorm:\n",
    "            x = BatchNormalization()(x)\n",
    "        x = Activation('relu')(x) \n",
    "        return x\n",
    "    \n",
    "    def resunet_opt(input_img, filters = 64, dropout = 0.2, batchnorm = True):\n",
    "        \"\"\"Residual Unet + Dense Atrous convolution + Rmp block\"\"\"\n",
    "        # 256x256x150\n",
    "        conv1 = convolutional_block(input_img, filters * 1, kernel_size = 3, batchnorm = batchnorm)\n",
    "        pool1 = MaxPooling3D((2, 2, 2))(conv1)\n",
    "        drop1 = Dropout(dropout)(pool1)\n",
    "        \n",
    "        # 128x128x75\n",
    "        conv2 = convolutional_block(drop1, filters * 2, kernel_size = 3, batchnorm = batchnorm)\n",
    "        pool2 = MaxPooling3D((2, 2, 2))(conv2)\n",
    "        drop2 = Dropout(dropout)(pool2)\n",
    "        \n",
    "        # 64x64x37\n",
    "        conv3 = convolutional_block(drop2, filters * 4, kernel_size = 3, batchnorm = batchnorm)\n",
    "        pool3 = MaxPooling3D((2, 2, 2))(conv3)\n",
    "        drop3 = Dropout(dropout)(pool3)\n",
    "        \n",
    "        # 32x32x18\n",
    "        conv4 = convolutional_block(drop3, filters * 8, kernel_size = 3, batchnorm = batchnorm)\n",
    "        pool4 = MaxPooling3D((2, 2, 2))(conv4)\n",
    "        drop4 = Dropout(dropout)(pool4)\n",
    "\n",
    "        # 16x16x9\n",
    "        conv5 = convolutional_block(drop4, filters * 16, kernel_size = 3, batchnorm = False)\n",
    "        pool5 = MaxPooling3D((2, 2, 2))(conv5)\n",
    "        drop5 = Dropout(dropout)(pool5) \n",
    "        \n",
    "        # 8x8x4\n",
    "        avgpool = GlobalAveragePooling3D()(drop5)\n",
    "        dense1 = Dense(units=512, activation=\"relu\")(avgpool)\n",
    "        drop6 = Dropout(0.3)(dense1)\n",
    "        \n",
    "        outputs = layers.Dense(units=1, activation=\"sigmoid\")(drop6)\n",
    "        \n",
    "        model = Model(inputs=[input_img], outputs=outputs, name=\"3dcnn\")\n",
    "        \n",
    "        return model\n",
    "    \n",
    "    def training(self,epochs):\n",
    "        im_height=256\n",
    "        im_width=256\n",
    "        img_depth=150\n",
    "        epochs=60\n",
    "        train_gen = self.data_gen(self.X_train,self.y_train, batch_size = 4)\n",
    "        val_gen = self.data_gen(self.X_test,self.y_test, batch_size = 4)\n",
    "        channels=1\n",
    "        input_img = Input((im_height, im_width,img_depth,channels), name='img')\n",
    "        self.model = self.resunet_opt(input_img, filters=16, dropout=0.05, batchnorm=True)\n",
    "        self.model.summary()\n",
    "        self.model.compile(optimizer=Adam(lr=1e-1),loss=focal_loss,metrics=[iou_score,'accuracy'])\n",
    "        #fitting the model\n",
    "        callbacks=callbacks = [\n",
    "            ModelCheckpoint('data/best_model.h5', verbose=1, save_best_only=True, save_weights_only=False)]\n",
    "        result=self.model.fit(train_gen,steps_per_epoch=16,epochs=epochs,validation_data=val_gen,validation_steps=16,initial_epoch=0,callbacks=callbacks)\n",
    "        \n",
    "    def inference(self,img_path):\n",
    "        '''Generates prediction for a sample image and does the plotting'''\n",
    "\n",
    "        #getting predictions \n",
    "        orig_img=nib.load(img_path).get_data()\n",
    "        orig_img=np.expand_dims(orig_img,-1)\n",
    "        orig_img=np.expand_dims(orig_img,0)\n",
    "        \n",
    "        model=keras.models.load_model('data/new_best.h5',custom_objects={'categorical_crossentropy_plus_dice_loss':focal_loss,'iou_score':iou_score})\n",
    "        pred=model.predict(orig_img)\n",
    "        print(\"Prediction: {}\".format(pred))\n",
    "        \n",
    "        #plotting outputs\n",
    "        fig,ax=plt.subplots(1,1,figsize=(15,10))\n",
    "        ax[0].set_title('Original image (cropped)')\n",
    "        ax[0].imshow(orig_img[orig_img.shape[0]//2])\n",
    "\n",
    "    def plotting(self,filepath):\n",
    "        '''Plots an interactive plot'''\n",
    "        img=nii.mean_img(filepath)\n",
    "        plotting.view_img(img,bg_img=img)"
   ]
  },
  {
   "cell_type": "code",
   "execution_count": 154,
   "id": "aa22e463-d22f-4ba2-bf73-e6f1150b8773",
   "metadata": {},
   "outputs": [
    {
     "data": {
      "text/html": [
       "<div>\n",
       "<style scoped>\n",
       "    .dataframe tbody tr th:only-of-type {\n",
       "        vertical-align: middle;\n",
       "    }\n",
       "\n",
       "    .dataframe tbody tr th {\n",
       "        vertical-align: top;\n",
       "    }\n",
       "\n",
       "    .dataframe thead th {\n",
       "        text-align: right;\n",
       "    }\n",
       "</style>\n",
       "<table border=\"1\" class=\"dataframe\">\n",
       "  <thead>\n",
       "    <tr style=\"text-align: right;\">\n",
       "      <th></th>\n",
       "      <th>Filename</th>\n",
       "      <th>Recognizable-Facial-Feature</th>\n",
       "      <th>Brain-Feature-Loss</th>\n",
       "    </tr>\n",
       "  </thead>\n",
       "  <tbody>\n",
       "    <tr>\n",
       "      <th>0</th>\n",
       "      <td>data/BET_BSE_DATA/files/IXI369-Guys-0924-T1_be...</td>\n",
       "      <td>1</td>\n",
       "      <td>0</td>\n",
       "    </tr>\n",
       "    <tr>\n",
       "      <th>1</th>\n",
       "      <td>data/BET_BSE_DATA/files/IXI448-HH-2393-T1_bet_...</td>\n",
       "      <td>1</td>\n",
       "      <td>0</td>\n",
       "    </tr>\n",
       "    <tr>\n",
       "      <th>2</th>\n",
       "      <td>data/BET_BSE_DATA/files/IXI252-HH-1693-T1_bet_...</td>\n",
       "      <td>1</td>\n",
       "      <td>0</td>\n",
       "    </tr>\n",
       "    <tr>\n",
       "      <th>3</th>\n",
       "      <td>data/BET_BSE_DATA/files/IXI188-Guys-0798-T1_be...</td>\n",
       "      <td>1</td>\n",
       "      <td>0</td>\n",
       "    </tr>\n",
       "    <tr>\n",
       "      <th>4</th>\n",
       "      <td>data/BET_BSE_DATA/files/IXI182-Guys-0792-T1_be...</td>\n",
       "      <td>1</td>\n",
       "      <td>0</td>\n",
       "    </tr>\n",
       "  </tbody>\n",
       "</table>\n",
       "</div>"
      ],
      "text/plain": [
       "                                            Filename  \\\n",
       "0  data/BET_BSE_DATA/files/IXI369-Guys-0924-T1_be...   \n",
       "1  data/BET_BSE_DATA/files/IXI448-HH-2393-T1_bet_...   \n",
       "2  data/BET_BSE_DATA/files/IXI252-HH-1693-T1_bet_...   \n",
       "3  data/BET_BSE_DATA/files/IXI188-Guys-0798-T1_be...   \n",
       "4  data/BET_BSE_DATA/files/IXI182-Guys-0792-T1_be...   \n",
       "\n",
       "  Recognizable-Facial-Feature Brain-Feature-Loss  \n",
       "0                           1                  0  \n",
       "1                           1                  0  \n",
       "2                           1                  0  \n",
       "3                           1                  0  \n",
       "4                           1                  0  "
      ]
     },
     "execution_count": 154,
     "metadata": {},
     "output_type": "execute_result"
    }
   ],
   "source": [
    "labels.head()"
   ]
  },
  {
   "cell_type": "code",
   "execution_count": 155,
   "id": "9c72a120-8217-4fa3-8cc2-fa04eed87c2f",
   "metadata": {},
   "outputs": [],
   "source": [
    "nn=model()\n",
    "X_train,X_test,y_train,y_test=nn.split(labels)"
   ]
  },
  {
   "cell_type": "code",
   "execution_count": 156,
   "id": "bb057067-f9c9-4e0f-b0df-45ba256ebc2a",
   "metadata": {},
   "outputs": [
    {
     "ename": "TypeError",
     "evalue": "resunet_opt() got multiple values for argument 'filters'",
     "output_type": "error",
     "traceback": [
      "\u001b[0;31m---------------------------------------------------------------------------\u001b[0m",
      "\u001b[0;31mTypeError\u001b[0m                                 Traceback (most recent call last)",
      "\u001b[0;32m/local_scratch/pbs.4658666.pbs02/ipykernel_3555832/3970784350.py\u001b[0m in \u001b[0;36m<module>\u001b[0;34m\u001b[0m\n\u001b[0;32m----> 1\u001b[0;31m \u001b[0mnn\u001b[0m\u001b[0;34m.\u001b[0m\u001b[0mtraining\u001b[0m\u001b[0;34m(\u001b[0m\u001b[0;36m10\u001b[0m\u001b[0;34m)\u001b[0m\u001b[0;34m\u001b[0m\u001b[0;34m\u001b[0m\u001b[0m\n\u001b[0m",
      "\u001b[0;32m/local_scratch/pbs.4658666.pbs02/ipykernel_3555832/432243307.py\u001b[0m in \u001b[0;36mtraining\u001b[0;34m(self, epochs)\u001b[0m\n\u001b[1;32m     93\u001b[0m         \u001b[0mchannels\u001b[0m\u001b[0;34m=\u001b[0m\u001b[0;36m1\u001b[0m\u001b[0;34m\u001b[0m\u001b[0;34m\u001b[0m\u001b[0m\n\u001b[1;32m     94\u001b[0m         \u001b[0minput_img\u001b[0m \u001b[0;34m=\u001b[0m \u001b[0mInput\u001b[0m\u001b[0;34m(\u001b[0m\u001b[0;34m(\u001b[0m\u001b[0mim_height\u001b[0m\u001b[0;34m,\u001b[0m \u001b[0mim_width\u001b[0m\u001b[0;34m,\u001b[0m\u001b[0mimg_depth\u001b[0m\u001b[0;34m,\u001b[0m\u001b[0mchannels\u001b[0m\u001b[0;34m)\u001b[0m\u001b[0;34m,\u001b[0m \u001b[0mname\u001b[0m\u001b[0;34m=\u001b[0m\u001b[0;34m'img'\u001b[0m\u001b[0;34m)\u001b[0m\u001b[0;34m\u001b[0m\u001b[0;34m\u001b[0m\u001b[0m\n\u001b[0;32m---> 95\u001b[0;31m         \u001b[0mself\u001b[0m\u001b[0;34m.\u001b[0m\u001b[0mmodel\u001b[0m \u001b[0;34m=\u001b[0m \u001b[0mself\u001b[0m\u001b[0;34m.\u001b[0m\u001b[0mresunet_opt\u001b[0m\u001b[0;34m(\u001b[0m\u001b[0minput_img\u001b[0m\u001b[0;34m,\u001b[0m \u001b[0mfilters\u001b[0m\u001b[0;34m=\u001b[0m\u001b[0;36m16\u001b[0m\u001b[0;34m,\u001b[0m \u001b[0mdropout\u001b[0m\u001b[0;34m=\u001b[0m\u001b[0;36m0.05\u001b[0m\u001b[0;34m,\u001b[0m \u001b[0mbatchnorm\u001b[0m\u001b[0;34m=\u001b[0m\u001b[0;32mTrue\u001b[0m\u001b[0;34m)\u001b[0m\u001b[0;34m\u001b[0m\u001b[0;34m\u001b[0m\u001b[0m\n\u001b[0m\u001b[1;32m     96\u001b[0m         \u001b[0mself\u001b[0m\u001b[0;34m.\u001b[0m\u001b[0mmodel\u001b[0m\u001b[0;34m.\u001b[0m\u001b[0msummary\u001b[0m\u001b[0;34m(\u001b[0m\u001b[0;34m)\u001b[0m\u001b[0;34m\u001b[0m\u001b[0;34m\u001b[0m\u001b[0m\n\u001b[1;32m     97\u001b[0m         \u001b[0mself\u001b[0m\u001b[0;34m.\u001b[0m\u001b[0mmodel\u001b[0m\u001b[0;34m.\u001b[0m\u001b[0mcompile\u001b[0m\u001b[0;34m(\u001b[0m\u001b[0moptimizer\u001b[0m\u001b[0;34m=\u001b[0m\u001b[0mAdam\u001b[0m\u001b[0;34m(\u001b[0m\u001b[0mlr\u001b[0m\u001b[0;34m=\u001b[0m\u001b[0;36m1e-1\u001b[0m\u001b[0;34m)\u001b[0m\u001b[0;34m,\u001b[0m\u001b[0mloss\u001b[0m\u001b[0;34m=\u001b[0m\u001b[0mfocal_loss\u001b[0m\u001b[0;34m,\u001b[0m\u001b[0mmetrics\u001b[0m\u001b[0;34m=\u001b[0m\u001b[0;34m[\u001b[0m\u001b[0miou_score\u001b[0m\u001b[0;34m,\u001b[0m\u001b[0;34m'accuracy'\u001b[0m\u001b[0;34m]\u001b[0m\u001b[0;34m)\u001b[0m\u001b[0;34m\u001b[0m\u001b[0;34m\u001b[0m\u001b[0m\n",
      "\u001b[0;31mTypeError\u001b[0m: resunet_opt() got multiple values for argument 'filters'"
     ]
    }
   ],
   "source": [
    "nn.training(10)"
   ]
  },
  {
   "cell_type": "code",
   "execution_count": null,
   "id": "fe041360-f749-458e-9dc7-f3a02adf9220",
   "metadata": {},
   "outputs": [],
   "source": []
  }
 ],
 "metadata": {
  "kernelspec": {
   "display_name": "pytorch",
   "language": "python",
   "name": "pytorch"
  },
  "language_info": {
   "codemirror_mode": {
    "name": "ipython",
    "version": 3
   },
   "file_extension": ".py",
   "mimetype": "text/x-python",
   "name": "python",
   "nbconvert_exporter": "python",
   "pygments_lexer": "ipython3",
   "version": "3.8.3"
  }
 },
 "nbformat": 4,
 "nbformat_minor": 5
}
