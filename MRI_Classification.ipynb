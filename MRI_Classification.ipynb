{
 "cells": [
  {
   "cell_type": "code",
   "execution_count": 14,
   "id": "cffb5944-c88a-4d3f-b46a-b18436347099",
   "metadata": {},
   "outputs": [],
   "source": [
    "import nibabel as nib\n",
    "import numpy as np\n",
    "import pandas as pd\n",
    "import os"
   ]
  },
  {
   "cell_type": "code",
   "execution_count": 16,
   "id": "84ea587c-6897-41f1-abf2-4fc4f9e20292",
   "metadata": {},
   "outputs": [],
   "source": [
    "DATA_FOLDER = \"./data/BET_BSE_DATA/\""
   ]
  },
  {
   "cell_type": "code",
   "execution_count": 18,
   "id": "370ccc50-e0ec-49d4-9d95-06c8afe5fa80",
   "metadata": {},
   "outputs": [
    {
     "name": "stdout",
     "output_type": "stream",
     "text": [
      "Shape of image= (256, 256, 150)\n"
     ]
    }
   ],
   "source": [
    "img=nib.load(DATA_FOLDER+'files/IXI662-Guys-1120-T1_bse_less_s46_r1.nii.gz')\n",
    "print('Shape of image=',img.shape)"
   ]
  },
  {
   "cell_type": "code",
   "execution_count": 19,
   "id": "98f53473-6eaa-46f9-83c8-74fae30cb2be",
   "metadata": {},
   "outputs": [],
   "source": [
    "mri_image_files = os.listdir(DATA_FOLDER+'/files')"
   ]
  },
  {
   "cell_type": "code",
   "execution_count": 20,
   "id": "2d19c676-2c22-4ac7-9fba-ebab4a0763cf",
   "metadata": {},
   "outputs": [
    {
     "name": "stdout",
     "output_type": "stream",
     "text": [
      "['IXI369-Guys-0924-T1_bse_high_s75_r2.nii.gz', 'IXI270-Guys-0847-T1_bet_88.nii.gz', 'IXI333-IOP-0926-T1_bse_default.nii.gz', 'IXI483-HH-2177-T1_bet_12.nii.gz', 'IXI464-IOP-1029-T1_bet_08.nii.gz', 'IXI205-HH-1649-T1_bet_73.nii.gz', 'IXI544-HH-2395-T1_bse_less_s51_r1.nii.gz', 'IXI033-HH-1259-T1_bet_76.nii.gz', 'IXI260-HH-1805-T1_bet_12.nii.gz', 'IXI241-Guys-0833-T1_bse_high_s74_r2.nii.gz']\n"
     ]
    }
   ],
   "source": [
    "print(mri_image_files[0:10])"
   ]
  },
  {
   "cell_type": "code",
   "execution_count": 21,
   "id": "1ba51b8f-1f62-470e-9c43-0e9557e881fb",
   "metadata": {},
   "outputs": [],
   "source": [
    "labels = pd.read_csv(DATA_FOLDER+'Label_file.csv')"
   ]
  },
  {
   "cell_type": "code",
   "execution_count": 22,
   "id": "152f3b5a-ded7-46ae-b8b1-7cacf49b59c9",
   "metadata": {},
   "outputs": [
    {
     "data": {
      "text/html": [
       "<div>\n",
       "<style scoped>\n",
       "    .dataframe tbody tr th:only-of-type {\n",
       "        vertical-align: middle;\n",
       "    }\n",
       "\n",
       "    .dataframe tbody tr th {\n",
       "        vertical-align: top;\n",
       "    }\n",
       "\n",
       "    .dataframe thead th {\n",
       "        text-align: right;\n",
       "    }\n",
       "</style>\n",
       "<table border=\"1\" class=\"dataframe\">\n",
       "  <thead>\n",
       "    <tr style=\"text-align: right;\">\n",
       "      <th></th>\n",
       "      <th>Filename</th>\n",
       "      <th>Recognizable-Facial-Feature</th>\n",
       "      <th>Brain-Feature-Loss</th>\n",
       "    </tr>\n",
       "  </thead>\n",
       "  <tbody>\n",
       "    <tr>\n",
       "      <th>0</th>\n",
       "      <td>IXI369-Guys-0924-T1_bet_03.nii</td>\n",
       "      <td>Yes</td>\n",
       "      <td>No</td>\n",
       "    </tr>\n",
       "    <tr>\n",
       "      <th>1</th>\n",
       "      <td>IXI448-HH-2393-T1_bet_07.nii</td>\n",
       "      <td>Yes</td>\n",
       "      <td>No</td>\n",
       "    </tr>\n",
       "    <tr>\n",
       "      <th>2</th>\n",
       "      <td>IXI252-HH-1693-T1_bet_08.nii</td>\n",
       "      <td>Yes</td>\n",
       "      <td>No</td>\n",
       "    </tr>\n",
       "    <tr>\n",
       "      <th>3</th>\n",
       "      <td>IXI188-Guys-0798-T1_bet_17.nii</td>\n",
       "      <td>Yes</td>\n",
       "      <td>No</td>\n",
       "    </tr>\n",
       "    <tr>\n",
       "      <th>4</th>\n",
       "      <td>IXI182-Guys-0792-T1_bet_17.nii</td>\n",
       "      <td>Yes</td>\n",
       "      <td>No</td>\n",
       "    </tr>\n",
       "  </tbody>\n",
       "</table>\n",
       "</div>"
      ],
      "text/plain": [
       "                         Filename Recognizable-Facial-Feature  \\\n",
       "0  IXI369-Guys-0924-T1_bet_03.nii                         Yes   \n",
       "1    IXI448-HH-2393-T1_bet_07.nii                         Yes   \n",
       "2    IXI252-HH-1693-T1_bet_08.nii                         Yes   \n",
       "3  IXI188-Guys-0798-T1_bet_17.nii                         Yes   \n",
       "4  IXI182-Guys-0792-T1_bet_17.nii                         Yes   \n",
       "\n",
       "  Brain-Feature-Loss  \n",
       "0                 No  \n",
       "1                 No  \n",
       "2                 No  \n",
       "3                 No  \n",
       "4                 No  "
      ]
     },
     "execution_count": 22,
     "metadata": {},
     "output_type": "execute_result"
    }
   ],
   "source": [
    "labels.head()"
   ]
  },
  {
   "cell_type": "code",
   "execution_count": null,
   "id": "c0fe2bcd-481c-4542-9ecc-bc3e603164c8",
   "metadata": {},
   "outputs": [],
   "source": []
  }
 ],
 "metadata": {
  "kernelspec": {
   "display_name": "pytorch",
   "language": "python",
   "name": "pytorch"
  },
  "language_info": {
   "codemirror_mode": {
    "name": "ipython",
    "version": 3
   },
   "file_extension": ".py",
   "mimetype": "text/x-python",
   "name": "python",
   "nbconvert_exporter": "python",
   "pygments_lexer": "ipython3",
   "version": "3.8.3"
  }
 },
 "nbformat": 4,
 "nbformat_minor": 5
}
