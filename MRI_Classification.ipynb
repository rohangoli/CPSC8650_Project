{
 "cells": [
  {
   "cell_type": "code",
   "execution_count": 151,
   "id": "cce73b96-8b38-47ac-827f-0c34527aad3a",
   "metadata": {},
   "outputs": [],
   "source": [
    "# !module add p7zip/16.02-gcc/8.4.1\n",
    "# !wget --header 'Host: doc-08-2g-docs.googleusercontent.com' --user-agent 'Mozilla/5.0 (X11; Ubuntu; Linux x86_64; rv:87.0) Gecko/20100101 Firefox/87.0' --header 'Accept: text/html,application/xhtml+xml,application/xml;q=0.9,image/webp,*/*;q=0.8' --header 'Accept-Language: en-US,en;q=0.5' --referer 'https://drive.google.com/' --header 'Cookie: AUTH_9k7m8g8qrj7at7i0b1sl7f8s8gafrr77_nonce=fchj71prkosgs' --header 'Upgrade-Insecure-Requests: 1' 'https://doc-08-2g-docs.googleusercontent.com/docs/securesc/5baff4djp5n2ak1832to2m6lltldb4gl/lld851i2e7pqe774volddlu45niullkl/1621202400000/00677992938550103544/12785117600840412092/1N1Qx-R5tLCX5EhXPoPdyg6YvEkDtf-cD?e=download&authuser=0&nonce=fchj71prkosgs&user=12785117600840412092&hash=0lccq4nigav75jop1timeo66ook4s4q1' --output-document 'ANTs-28-03-2019.7z'\n",
    "# !7z x ANTs-28-03-2019.7z\n",
    "# !cp bin/* /home/rgoli/.local/bin"
   ]
  },
  {
   "cell_type": "code",
   "execution_count": 152,
   "id": "541539cf-7207-4cb3-9697-156e8f05f222",
   "metadata": {},
   "outputs": [],
   "source": [
    "import tensorflow as tf\n",
    "import random\n",
    "# tf.compat.v1.enable_eager_execution()\n",
    "from tensorflow import keras\n",
    "from tensorflow.keras.layers import *\n",
    "from tensorflow.keras.preprocessing import image\n",
    "from tensorflow.keras.models import Model, load_model\n",
    "from tensorflow.keras.layers import concatenate,Dropout, Dense, GlobalAveragePooling3D, MaxPool3D\n",
    "from tensorflow.keras.layers import Multiply, MaxPooling2D, GlobalMaxPooling2D\n",
    "from tensorflow.keras.callbacks import EarlyStopping, ModelCheckpoint\n",
    "from tensorflow.keras import backend as K\n",
    "from tensorflow.keras.layers import Input, Add, Dense, Activation, ZeroPadding2D\n",
    "from tensorflow.keras.layers import BatchNormalization, Flatten, Conv2D, AveragePooling2D\n",
    "from tensorflow.keras.models import Model, load_model\n",
    "from tensorflow.keras.callbacks import EarlyStopping, ModelCheckpoint, ReduceLROnPlateau\n",
    "from tensorflow.keras.utils import plot_model\n",
    "from tensorflow.keras.initializers import glorot_uniform\n",
    "from tensorflow.keras.optimizers import Adam\n",
    "from tensorflow.keras.callbacks import ModelCheckpoint\n",
    "from tensorflow.keras.preprocessing.image import ImageDataGenerator"
   ]
  },
  {
   "cell_type": "code",
   "execution_count": 153,
   "id": "cffb5944-c88a-4d3f-b46a-b18436347099",
   "metadata": {},
   "outputs": [],
   "source": [
    "import nibabel as nib\n",
    "import numpy as np\n",
    "import pandas as pd\n",
    "import os\n",
    "import matplotlib.pyplot as plt\n",
    "%matplotlib inline\n",
    "\n",
    "from tqdm import tqdm\n",
    "\n",
    "from nipype.interfaces.slicer.filtering.n4itkbiasfieldcorrection import N4ITKBiasFieldCorrection\n",
    "from nipype import Node, Workflow\n",
    "\n",
    "#import SimpleITK as sitk\n",
    "# from nilearn.image import math_img\n",
    "# from nilearn import image as nii\n",
    "# from nilearn import plotting\n",
    "# from nipype.interfaces.ants import N4BiasFieldCorrection\n",
    "# from nilearn.image import resample_img"
   ]
  },
  {
   "cell_type": "code",
   "execution_count": 154,
   "id": "84ea587c-6897-41f1-abf2-4fc4f9e20292",
   "metadata": {},
   "outputs": [],
   "source": [
    "DATA_FOLDER = \"data/BET_BSE_DATA/\""
   ]
  },
  {
   "cell_type": "code",
   "execution_count": 155,
   "id": "370ccc50-e0ec-49d4-9d95-06c8afe5fa80",
   "metadata": {},
   "outputs": [
    {
     "name": "stdout",
     "output_type": "stream",
     "text": [
      "Shape of image= (256, 256, 150)\n"
     ]
    }
   ],
   "source": [
    "img=nib.load(DATA_FOLDER+'files/IXI662-Guys-1120-T1_bse_less_s46_r1.nii.gz')\n",
    "print('Shape of image=',img.shape)"
   ]
  },
  {
   "cell_type": "code",
   "execution_count": 156,
   "id": "98f53473-6eaa-46f9-83c8-74fae30cb2be",
   "metadata": {},
   "outputs": [],
   "source": [
    "mri_image_files = os.listdir(DATA_FOLDER+'/files')"
   ]
  },
  {
   "cell_type": "code",
   "execution_count": 157,
   "id": "2d19c676-2c22-4ac7-9fba-ebab4a0763cf",
   "metadata": {},
   "outputs": [
    {
     "name": "stdout",
     "output_type": "stream",
     "text": [
      "['IXI607-Guys-1097-T1_bse_high_s75_r2.nii.gz', 'IXI002-Guys-0828-T1_bse_less_s5_r1.nii.gz', 'IXI051-HH-1328-T1_bet_75.nii.gz', 'IXI490-Guys-1018-T1_bse_high_s75_r2.nii.gz', 'IXI067-HH-1356-T1_bse_high_s81_r2.nii.gz', 'IXI544-HH-2395-T1_bse_high_s87_r2.nii.gz', 'IXI025-Guys-0852-T1_bet_14.nii.gz', 'IXI496-Guys-1045-T1_bse_high_s89_r2.nii.gz', 'IXI462-IOP-1042-T1_bse_less_s45_r1.nii.gz', 'IXI016-Guys-0697-T1_bet_17.nii.gz']\n"
     ]
    }
   ],
   "source": [
    "print(mri_image_files[0:10])"
   ]
  },
  {
   "cell_type": "code",
   "execution_count": 158,
   "id": "1ba51b8f-1f62-470e-9c43-0e9557e881fb",
   "metadata": {},
   "outputs": [],
   "source": [
    "labels = pd.read_csv(DATA_FOLDER+'Label_file.csv')\n",
    "labels['Filename'] = DATA_FOLDER+'files/'+labels['Filename'].astype(str)+'.gz'\n",
    "labels.loc[labels['Recognizable-Facial-Feature'] == 'Yes', 'Recognizable-Facial-Feature'] = 1\n",
    "labels.loc[labels['Recognizable-Facial-Feature'] == 'No', 'Recognizable-Facial-Feature'] = 0\n",
    "labels.loc[labels['Brain-Feature-Loss'] == 'Yes', 'Brain-Feature-Loss'] = 1\n",
    "labels.loc[labels['Brain-Feature-Loss'] == 'No', 'Brain-Feature-Loss'] = 0\n",
    "# labels['Brain-Feature-Loss'] = labels['Brain-Feature-Loss'].astype(int)"
   ]
  },
  {
   "cell_type": "code",
   "execution_count": 159,
   "id": "152f3b5a-ded7-46ae-b8b1-7cacf49b59c9",
   "metadata": {},
   "outputs": [
    {
     "data": {
      "text/html": [
       "<div>\n",
       "<style scoped>\n",
       "    .dataframe tbody tr th:only-of-type {\n",
       "        vertical-align: middle;\n",
       "    }\n",
       "\n",
       "    .dataframe tbody tr th {\n",
       "        vertical-align: top;\n",
       "    }\n",
       "\n",
       "    .dataframe thead th {\n",
       "        text-align: right;\n",
       "    }\n",
       "</style>\n",
       "<table border=\"1\" class=\"dataframe\">\n",
       "  <thead>\n",
       "    <tr style=\"text-align: right;\">\n",
       "      <th></th>\n",
       "      <th>Filename</th>\n",
       "      <th>Recognizable-Facial-Feature</th>\n",
       "      <th>Brain-Feature-Loss</th>\n",
       "    </tr>\n",
       "  </thead>\n",
       "  <tbody>\n",
       "    <tr>\n",
       "      <th>0</th>\n",
       "      <td>data/BET_BSE_DATA/files/IXI369-Guys-0924-T1_be...</td>\n",
       "      <td>1</td>\n",
       "      <td>0</td>\n",
       "    </tr>\n",
       "    <tr>\n",
       "      <th>1</th>\n",
       "      <td>data/BET_BSE_DATA/files/IXI448-HH-2393-T1_bet_...</td>\n",
       "      <td>1</td>\n",
       "      <td>0</td>\n",
       "    </tr>\n",
       "    <tr>\n",
       "      <th>2</th>\n",
       "      <td>data/BET_BSE_DATA/files/IXI252-HH-1693-T1_bet_...</td>\n",
       "      <td>1</td>\n",
       "      <td>0</td>\n",
       "    </tr>\n",
       "    <tr>\n",
       "      <th>3</th>\n",
       "      <td>data/BET_BSE_DATA/files/IXI188-Guys-0798-T1_be...</td>\n",
       "      <td>1</td>\n",
       "      <td>0</td>\n",
       "    </tr>\n",
       "    <tr>\n",
       "      <th>4</th>\n",
       "      <td>data/BET_BSE_DATA/files/IXI182-Guys-0792-T1_be...</td>\n",
       "      <td>1</td>\n",
       "      <td>0</td>\n",
       "    </tr>\n",
       "  </tbody>\n",
       "</table>\n",
       "</div>"
      ],
      "text/plain": [
       "                                            Filename  \\\n",
       "0  data/BET_BSE_DATA/files/IXI369-Guys-0924-T1_be...   \n",
       "1  data/BET_BSE_DATA/files/IXI448-HH-2393-T1_bet_...   \n",
       "2  data/BET_BSE_DATA/files/IXI252-HH-1693-T1_bet_...   \n",
       "3  data/BET_BSE_DATA/files/IXI188-Guys-0798-T1_be...   \n",
       "4  data/BET_BSE_DATA/files/IXI182-Guys-0792-T1_be...   \n",
       "\n",
       "  Recognizable-Facial-Feature Brain-Feature-Loss  \n",
       "0                           1                  0  \n",
       "1                           1                  0  \n",
       "2                           1                  0  \n",
       "3                           1                  0  \n",
       "4                           1                  0  "
      ]
     },
     "execution_count": 159,
     "metadata": {},
     "output_type": "execute_result"
    }
   ],
   "source": [
    "labels.head()"
   ]
  },
  {
   "cell_type": "code",
   "execution_count": 160,
   "id": "f4a1cfbf-9ffb-4893-95b5-8115a5070194",
   "metadata": {},
   "outputs": [
    {
     "data": {
      "text/plain": [
       "(1311, 3)"
      ]
     },
     "execution_count": 160,
     "metadata": {},
     "output_type": "execute_result"
    }
   ],
   "source": [
    "labels.shape"
   ]
  },
  {
   "cell_type": "code",
   "execution_count": 161,
   "id": "5adf2b68-a6b8-4959-ac5a-4ed005acf897",
   "metadata": {},
   "outputs": [
    {
     "data": {
      "text/plain": [
       "'data/BET_BSE_DATA/files/IXI448-HH-2393-T1_bet_07.nii.gz'"
      ]
     },
     "execution_count": 161,
     "metadata": {},
     "output_type": "execute_result"
    }
   ],
   "source": [
    "labels.iloc[1]['Filename']"
   ]
  },
  {
   "cell_type": "code",
   "execution_count": 162,
   "id": "c0fe2bcd-481c-4542-9ecc-bc3e603164c8",
   "metadata": {},
   "outputs": [
    {
     "name": "stderr",
     "output_type": "stream",
     "text": [
      "/local_scratch/pbs.4659211.pbs02/ipykernel_2393736/2273036769.py:5: DeprecationWarning: get_data() is deprecated in favor of get_fdata(), which has a more predictable return type. To obtain get_data() behavior going forward, use numpy.asanyarray(img.dataobj).\n",
      "\n",
      "* deprecated from version: 3.0\n",
      "* Will raise <class 'nibabel.deprecator.ExpiredDeprecationError'> as of version: 5.0\n",
      "  img = nib.load(labels.iloc[i]['Filename']).get_data()\n"
     ]
    },
    {
     "data": {
      "image/png": "[encoded data removed]",
      "text/plain": [
       "<Figure size 432x288 with 3 Axes>"
      ]
     },
     "metadata": {
      "needs_background": "light"
     },
     "output_type": "display_data"
    }
   ],
   "source": [
    "#lets visualize a couple of examples\n",
    "fig,ax=plt.subplots(1,3)\n",
    "for i in range(3):\n",
    "    ax[i].set_title('Raw image')\n",
    "    img = nib.load(labels.iloc[i]['Filename']).get_data()\n",
    "    ax[i].imshow(img[img.shape[0]//2])"
   ]
  },
  {
   "cell_type": "code",
   "execution_count": 163,
   "id": "e17aabc9-bb09-4648-ba12-50e30e0e6deb",
   "metadata": {},
   "outputs": [],
   "source": [
    "## Bias Correction\n",
    "# n4 = N4BiasFieldCorrection()\n",
    "# n4.inputs.dimension = 3\n",
    "# n4.inputs.shrink_factor = 3\n",
    "# n4.inputs.n_iterations = [20, 10, 10, 5]\n",
    "\n",
    "# # !mkdir data/BET_BSE_DATA/bias_correction\n",
    "\n",
    "# index_corr=[]\n",
    "# for i in tqdm(range(len(mri_image_files))):\n",
    "#     file_name = mri_image_files[i]\n",
    "#     n4.inputs.input_image = file_name\n",
    "#     n4.inputs.output_image ='data/BET_BSE_DATA/bias_correction/'+file_name+'.gz'\n",
    "#     index_corr.append('data/BET_BSE_DATA/bias_correction/'+file_name+'.gz')\n",
    "#     res = n4.run()\n",
    "\n",
    "# #index_corr=['data/BET_BSE_DATA/bias_correction/'+str(i)+'.nii.gz' for i in range(125)]\n",
    "# #data['bias_corr']=index_corr\n",
    "# print('Bias corrected images stored at : data/BET_BSE_DATA/bias_correction/')"
   ]
  },
  {
   "cell_type": "code",
   "execution_count": 164,
   "id": "8d215877-86d1-4070-9bdd-6ea22dae39a7",
   "metadata": {},
   "outputs": [],
   "source": [
    "# !module list"
   ]
  },
  {
   "cell_type": "code",
   "execution_count": 165,
   "id": "e12ade46-3708-4801-a0a6-28e5ee0bcf41",
   "metadata": {},
   "outputs": [],
   "source": [
    "# !module add ant/1.9.6-gcc/8.3.1"
   ]
  },
  {
   "cell_type": "code",
   "execution_count": 166,
   "id": "d634e6f4-af06-4891-ad54-296f8f4a054c",
   "metadata": {},
   "outputs": [],
   "source": [
    "from sklearn.model_selection import train_test_split\n",
    "\n",
    "class model():\n",
    "    def __init__(self,):\n",
    "        pass\n",
    "    \n",
    "    def split(self,df):\n",
    "        self.X_train,self.X_test,self.y_train,self.y_test=train_test_split(df[['Filename']], df[['Recognizable-Facial-Feature']],test_size=0.2)\n",
    "        return self.X_train,self.X_test,self.y_train,self.y_test\n",
    "\n",
    "    def data_gen(self,images, targets, batch_size):\n",
    "        '''Custom data generator to feed image to model'''\n",
    "        c = 0\n",
    "        n = [i for i in range(len(images))]  #List of training images\n",
    "        random.shuffle(n)\n",
    "    \n",
    "        while (True):\n",
    "            img = np.zeros((batch_size, 256, 256, 150,1)).astype('float')   #adding extra dimensions as conv3d takes file of size 5\n",
    "            tgt = np.zeros((batch_size)).astype('float')\n",
    "            \n",
    "            for i in range(c, c+batch_size): \n",
    "                train_img = nib.load(images[n[i]]).get_data()\n",
    "                train_img=np.expand_dims(train_img,-1)\n",
    "                img[i-c]=train_img\n",
    "                tgt[i-c]=targets[n[i]]\n",
    "\n",
    "            c+=batch_size\n",
    "            if(c+batch_size>=len(img_list)):\n",
    "                c=0\n",
    "                random.shuffle(n)\n",
    "\n",
    "            yield img,tgt\n",
    "\n",
    "    def convolutional_block(self,inp, filters=3, kernel_size=3, batchnorm = True):\n",
    "        '''conv layer followed by batchnormalization'''\n",
    "        x = Conv3D(filters = filters, kernel_size = (kernel_size, kernel_size,kernel_size),\n",
    "                   kernel_initializer = 'he_normal', padding = 'same')(inp)\n",
    "        if batchnorm:\n",
    "            x = BatchNormalization()(x)\n",
    "        x = Activation('relu')(x)\n",
    "        x = Conv3D(filters = filters, kernel_size = (kernel_size, kernel_size,kernel_size),\n",
    "                   kernel_initializer = 'he_normal', padding = 'same')(inp)\n",
    "        if batchnorm:\n",
    "            x = BatchNormalization()(x)\n",
    "        x = Activation('relu')(x) \n",
    "        return x\n",
    "    \n",
    "    def resunet_opt(self,input_img, filters = 64, dropout = 0.2, batchnorm = True):\n",
    "        \n",
    "        \"\"\"Residual Unet + Dense Atrous convolution + Rmp block\"\"\"\n",
    "        # 256x256x150\n",
    "        conv1 = self.convolutional_block(input_img, filters * 1, kernel_size = 3, batchnorm = batchnorm)\n",
    "        pool1 = MaxPooling3D((2, 2, 2))(conv1)\n",
    "        drop1 = Dropout(dropout)(pool1)\n",
    "        \n",
    "        # 128x128x75\n",
    "        conv2 = self.convolutional_block(drop1, filters * 2, kernel_size = 3, batchnorm = batchnorm)\n",
    "        pool2 = MaxPooling3D((2, 2, 2))(conv2)\n",
    "        drop2 = Dropout(dropout)(pool2)\n",
    "        \n",
    "        # 64x64x37\n",
    "        conv3 = self.convolutional_block(drop2, filters * 4, kernel_size = 3, batchnorm = batchnorm)\n",
    "        pool3 = MaxPooling3D((2, 2, 2))(conv3)\n",
    "        drop3 = Dropout(dropout)(pool3)\n",
    "        \n",
    "        # 32x32x18\n",
    "        conv4 = self.convolutional_block(drop3, filters * 8, kernel_size = 3, batchnorm = batchnorm)\n",
    "        pool4 = MaxPooling3D((2, 2, 2))(conv4)\n",
    "        drop4 = Dropout(dropout)(pool4)\n",
    "\n",
    "        # 16x16x9\n",
    "        conv5 = self.convolutional_block(drop4, filters * 16, kernel_size = 3, batchnorm = False)\n",
    "        pool5 = MaxPooling3D((2, 2, 2))(conv5)\n",
    "        drop5 = Dropout(dropout)(pool5) \n",
    "        \n",
    "        # 8x8x4\n",
    "        avgpool = GlobalAveragePooling3D()(drop5)\n",
    "        dense1 = Dense(units=512, activation=\"relu\")(avgpool)\n",
    "        drop6 = Dropout(0.3)(dense1)\n",
    "        \n",
    "        outputs = Dense(units=1, activation=\"sigmoid\")(drop6)\n",
    "        \n",
    "        model = Model(inputs=[input_img], outputs=outputs, name=\"3dcnn\")\n",
    "        \n",
    "        return model\n",
    "    \n",
    "    def training(self,epochs):\n",
    "        im_height=256\n",
    "        im_width=256\n",
    "        img_depth=150\n",
    "        epochs=60\n",
    "        train_gen = self.data_gen(self.X_train,self.y_train, batch_size = 4)\n",
    "        val_gen = self.data_gen(self.X_test,self.y_test, batch_size = 4)\n",
    "        channels=1\n",
    "        input_img = Input((im_height, im_width,img_depth,channels), name='img')\n",
    "        self.model = self.resunet_opt(input_img, filters=16, dropout=0.05, batchnorm=True)\n",
    "        self.model.summary()\n",
    "        self.model.compile(optimizer=Adam(lr=1e-1),loss=\"binary_crossentropy\",metrics=['accuracy'])\n",
    "        #fitting the model\n",
    "        callbacks=callbacks = [\n",
    "            ModelCheckpoint('data/best_model.h5', verbose=1, save_best_only=True, save_weights_only=False)]\n",
    "        result=self.model.fit(train_gen,steps_per_epoch=16,epochs=epochs,validation_data=val_gen,validation_steps=16,initial_epoch=0,callbacks=callbacks)\n",
    "        \n",
    "    def inference(self,img_path):\n",
    "        '''Generates prediction for a sample image and does the plotting'''\n",
    "\n",
    "        #getting predictions \n",
    "        orig_img=nib.load(img_path).get_data()\n",
    "        orig_img=np.expand_dims(orig_img,-1)\n",
    "        orig_img=np.expand_dims(orig_img,0)\n",
    "        \n",
    "        model=keras.models.load_model('data/new_best.h5',custom_objects={'categorical_crossentropy_plus_dice_loss''iou_score':iou_score})\n",
    "        pred=model.predict(orig_img)\n",
    "        print(\"Prediction: {}\".format(pred))\n",
    "        \n",
    "        #plotting outputs\n",
    "        fig,ax=plt.subplots(1,1,figsize=(15,10))\n",
    "        ax[0].set_title('Original image (cropped)')\n",
    "        ax[0].imshow(orig_img[orig_img.shape[0]//2])\n",
    "\n",
    "    def plotting(self,filepath):\n",
    "        '''Plots an interactive plot'''\n",
    "        img=nii.mean_img(filepath)\n",
    "        plotting.view_img(img,bg_img=img)"
   ]
  },
  {
   "cell_type": "code",
   "execution_count": 167,
   "id": "aa22e463-d22f-4ba2-bf73-e6f1150b8773",
   "metadata": {},
   "outputs": [
    {
     "data": {
      "text/html": [
       "<div>\n",
       "<style scoped>\n",
       "    .dataframe tbody tr th:only-of-type {\n",
       "        vertical-align: middle;\n",
       "    }\n",
       "\n",
       "    .dataframe tbody tr th {\n",
       "        vertical-align: top;\n",
       "    }\n",
       "\n",
       "    .dataframe thead th {\n",
       "        text-align: right;\n",
       "    }\n",
       "</style>\n",
       "<table border=\"1\" class=\"dataframe\">\n",
       "  <thead>\n",
       "    <tr style=\"text-align: right;\">\n",
       "      <th></th>\n",
       "      <th>Filename</th>\n",
       "      <th>Recognizable-Facial-Feature</th>\n",
       "      <th>Brain-Feature-Loss</th>\n",
       "    </tr>\n",
       "  </thead>\n",
       "  <tbody>\n",
       "    <tr>\n",
       "      <th>0</th>\n",
       "      <td>data/BET_BSE_DATA/files/IXI369-Guys-0924-T1_be...</td>\n",
       "      <td>1</td>\n",
       "      <td>0</td>\n",
       "    </tr>\n",
       "    <tr>\n",
       "      <th>1</th>\n",
       "      <td>data/BET_BSE_DATA/files/IXI448-HH-2393-T1_bet_...</td>\n",
       "      <td>1</td>\n",
       "      <td>0</td>\n",
       "    </tr>\n",
       "    <tr>\n",
       "      <th>2</th>\n",
       "      <td>data/BET_BSE_DATA/files/IXI252-HH-1693-T1_bet_...</td>\n",
       "      <td>1</td>\n",
       "      <td>0</td>\n",
       "    </tr>\n",
       "    <tr>\n",
       "      <th>3</th>\n",
       "      <td>data/BET_BSE_DATA/files/IXI188-Guys-0798-T1_be...</td>\n",
       "      <td>1</td>\n",
       "      <td>0</td>\n",
       "    </tr>\n",
       "    <tr>\n",
       "      <th>4</th>\n",
       "      <td>data/BET_BSE_DATA/files/IXI182-Guys-0792-T1_be...</td>\n",
       "      <td>1</td>\n",
       "      <td>0</td>\n",
       "    </tr>\n",
       "  </tbody>\n",
       "</table>\n",
       "</div>"
      ],
      "text/plain": [
       "                                            Filename  \\\n",
       "0  data/BET_BSE_DATA/files/IXI369-Guys-0924-T1_be...   \n",
       "1  data/BET_BSE_DATA/files/IXI448-HH-2393-T1_bet_...   \n",
       "2  data/BET_BSE_DATA/files/IXI252-HH-1693-T1_bet_...   \n",
       "3  data/BET_BSE_DATA/files/IXI188-Guys-0798-T1_be...   \n",
       "4  data/BET_BSE_DATA/files/IXI182-Guys-0792-T1_be...   \n",
       "\n",
       "  Recognizable-Facial-Feature Brain-Feature-Loss  \n",
       "0                           1                  0  \n",
       "1                           1                  0  \n",
       "2                           1                  0  \n",
       "3                           1                  0  \n",
       "4                           1                  0  "
      ]
     },
     "execution_count": 167,
     "metadata": {},
     "output_type": "execute_result"
    }
   ],
   "source": [
    "labels.head()"
   ]
  },
  {
   "cell_type": "code",
   "execution_count": 168,
   "id": "9c72a120-8217-4fa3-8cc2-fa04eed87c2f",
   "metadata": {},
   "outputs": [],
   "source": [
    "nn=model()\n",
    "X_train,X_test,y_train,y_test=nn.split(labels)"
   ]
  },
  {
   "cell_type": "code",
   "execution_count": 169,
   "id": "bb057067-f9c9-4e0f-b0df-45ba256ebc2a",
   "metadata": {},
   "outputs": [
    {
     "name": "stdout",
     "output_type": "stream",
     "text": [
      "Model: \"3dcnn\"\n",
      "_________________________________________________________________\n",
      "Layer (type)                 Output Shape              Param #   \n",
      "=================================================================\n",
      "img (InputLayer)             [(None, 256, 256, 150, 1) 0         \n",
      "_________________________________________________________________\n",
      "conv3d_51 (Conv3D)           (None, 256, 256, 150, 16) 448       \n",
      "_________________________________________________________________\n",
      "batch_normalization_41 (Batc (None, 256, 256, 150, 16) 64        \n",
      "_________________________________________________________________\n",
      "activation_51 (Activation)   (None, 256, 256, 150, 16) 0         \n",
      "_________________________________________________________________\n",
      "max_pooling3d_25 (MaxPooling (None, 128, 128, 75, 16)  0         \n",
      "_________________________________________________________________\n",
      "dropout_30 (Dropout)         (None, 128, 128, 75, 16)  0         \n",
      "_________________________________________________________________\n",
      "conv3d_53 (Conv3D)           (None, 128, 128, 75, 32)  13856     \n",
      "_________________________________________________________________\n",
      "batch_normalization_43 (Batc (None, 128, 128, 75, 32)  128       \n",
      "_________________________________________________________________\n",
      "activation_53 (Activation)   (None, 128, 128, 75, 32)  0         \n",
      "_________________________________________________________________\n",
      "max_pooling3d_26 (MaxPooling (None, 64, 64, 37, 32)    0         \n",
      "_________________________________________________________________\n",
      "dropout_31 (Dropout)         (None, 64, 64, 37, 32)    0         \n",
      "_________________________________________________________________\n",
      "conv3d_55 (Conv3D)           (None, 64, 64, 37, 64)    55360     \n",
      "_________________________________________________________________\n",
      "batch_normalization_45 (Batc (None, 64, 64, 37, 64)    256       \n",
      "_________________________________________________________________\n",
      "activation_55 (Activation)   (None, 64, 64, 37, 64)    0         \n",
      "_________________________________________________________________\n",
      "max_pooling3d_27 (MaxPooling (None, 32, 32, 18, 64)    0         \n",
      "_________________________________________________________________\n",
      "dropout_32 (Dropout)         (None, 32, 32, 18, 64)    0         \n",
      "_________________________________________________________________\n",
      "conv3d_57 (Conv3D)           (None, 32, 32, 18, 128)   221312    \n",
      "_________________________________________________________________\n",
      "batch_normalization_47 (Batc (None, 32, 32, 18, 128)   512       \n",
      "_________________________________________________________________\n",
      "activation_57 (Activation)   (None, 32, 32, 18, 128)   0         \n",
      "_________________________________________________________________\n",
      "max_pooling3d_28 (MaxPooling (None, 16, 16, 9, 128)    0         \n",
      "_________________________________________________________________\n",
      "dropout_33 (Dropout)         (None, 16, 16, 9, 128)    0         \n",
      "_________________________________________________________________\n",
      "conv3d_59 (Conv3D)           (None, 16, 16, 9, 256)    884992    \n",
      "_________________________________________________________________\n",
      "activation_59 (Activation)   (None, 16, 16, 9, 256)    0         \n",
      "_________________________________________________________________\n",
      "max_pooling3d_29 (MaxPooling (None, 8, 8, 4, 256)      0         \n",
      "_________________________________________________________________\n",
      "dropout_34 (Dropout)         (None, 8, 8, 4, 256)      0         \n",
      "_________________________________________________________________\n",
      "global_average_pooling3d_5 ( (None, 256)               0         \n",
      "_________________________________________________________________\n",
      "dense_9 (Dense)              (None, 512)               131584    \n",
      "_________________________________________________________________\n",
      "dropout_35 (Dropout)         (None, 512)               0         \n",
      "_________________________________________________________________\n",
      "dense_10 (Dense)             (None, 1)                 513       \n",
      "=================================================================\n",
      "Total params: 1,309,025\n",
      "Trainable params: 1,308,545\n",
      "Non-trainable params: 480\n",
      "_________________________________________________________________\n"
     ]
    },
    {
     "ename": "KeyError",
     "evalue": "620",
     "output_type": "error",
     "traceback": [
      "\u001b[0;31m---------------------------------------------------------------------------\u001b[0m",
      "\u001b[0;31mKeyError\u001b[0m                                  Traceback (most recent call last)",
      "File \u001b[0;32m~/.local/lib/python3.8/site-packages/pandas/core/indexes/base.py:3361\u001b[0m, in \u001b[0;36mIndex.get_loc\u001b[0;34m(self, key, method, tolerance)\u001b[0m\n\u001b[1;32m   3360\u001b[0m \u001b[38;5;28;01mtry\u001b[39;00m:\n\u001b[0;32m-> 3361\u001b[0m     \u001b[38;5;28;01mreturn\u001b[39;00m \u001b[38;5;28;43mself\u001b[39;49m\u001b[38;5;241;43m.\u001b[39;49m\u001b[43m_engine\u001b[49m\u001b[38;5;241;43m.\u001b[39;49m\u001b[43mget_loc\u001b[49m\u001b[43m(\u001b[49m\u001b[43mcasted_key\u001b[49m\u001b[43m)\u001b[49m\n\u001b[1;32m   3362\u001b[0m \u001b[38;5;28;01mexcept\u001b[39;00m \u001b[38;5;167;01mKeyError\u001b[39;00m \u001b[38;5;28;01mas\u001b[39;00m err:\n",
      "File \u001b[0;32m~/.local/lib/python3.8/site-packages/pandas/_libs/index.pyx:76\u001b[0m, in \u001b[0;36mpandas._libs.index.IndexEngine.get_loc\u001b[0;34m()\u001b[0m\n",
      "File \u001b[0;32m~/.local/lib/python3.8/site-packages/pandas/_libs/index.pyx:108\u001b[0m, in \u001b[0;36mpandas._libs.index.IndexEngine.get_loc\u001b[0;34m()\u001b[0m\n",
      "File \u001b[0;32mpandas/_libs/hashtable_class_helper.pxi:5198\u001b[0m, in \u001b[0;36mpandas._libs.hashtable.PyObjectHashTable.get_item\u001b[0;34m()\u001b[0m\n",
      "File \u001b[0;32mpandas/_libs/hashtable_class_helper.pxi:5206\u001b[0m, in \u001b[0;36mpandas._libs.hashtable.PyObjectHashTable.get_item\u001b[0;34m()\u001b[0m\n",
      "\u001b[0;31mKeyError\u001b[0m: 620",
      "\nThe above exception was the direct cause of the following exception:\n",
      "\u001b[0;31mKeyError\u001b[0m                                  Traceback (most recent call last)",
      "Input \u001b[0;32mIn [169]\u001b[0m, in \u001b[0;36m<cell line: 1>\u001b[0;34m()\u001b[0m\n\u001b[0;32m----> 1\u001b[0m \u001b[43mnn\u001b[49m\u001b[38;5;241;43m.\u001b[39;49m\u001b[43mtraining\u001b[49m\u001b[43m(\u001b[49m\u001b[38;5;241;43m10\u001b[39;49m\u001b[43m)\u001b[49m\n",
      "Input \u001b[0;32mIn [166]\u001b[0m, in \u001b[0;36mmodel.training\u001b[0;34m(self, epochs)\u001b[0m\n\u001b[1;32m     99\u001b[0m \u001b[38;5;66;03m#fitting the model\u001b[39;00m\n\u001b[1;32m    100\u001b[0m callbacks\u001b[38;5;241m=\u001b[39mcallbacks \u001b[38;5;241m=\u001b[39m [\n\u001b[1;32m    101\u001b[0m     ModelCheckpoint(\u001b[38;5;124m'\u001b[39m\u001b[38;5;124mdata/best_model.h5\u001b[39m\u001b[38;5;124m'\u001b[39m, verbose\u001b[38;5;241m=\u001b[39m\u001b[38;5;241m1\u001b[39m, save_best_only\u001b[38;5;241m=\u001b[39m\u001b[38;5;28;01mTrue\u001b[39;00m, save_weights_only\u001b[38;5;241m=\u001b[39m\u001b[38;5;28;01mFalse\u001b[39;00m)]\n\u001b[0;32m--> 102\u001b[0m result\u001b[38;5;241m=\u001b[39m\u001b[38;5;28;43mself\u001b[39;49m\u001b[38;5;241;43m.\u001b[39;49m\u001b[43mmodel\u001b[49m\u001b[38;5;241;43m.\u001b[39;49m\u001b[43mfit\u001b[49m\u001b[43m(\u001b[49m\u001b[43mtrain_gen\u001b[49m\u001b[43m,\u001b[49m\u001b[43msteps_per_epoch\u001b[49m\u001b[38;5;241;43m=\u001b[39;49m\u001b[38;5;241;43m16\u001b[39;49m\u001b[43m,\u001b[49m\u001b[43mepochs\u001b[49m\u001b[38;5;241;43m=\u001b[39;49m\u001b[43mepochs\u001b[49m\u001b[43m,\u001b[49m\u001b[43mvalidation_data\u001b[49m\u001b[38;5;241;43m=\u001b[39;49m\u001b[43mval_gen\u001b[49m\u001b[43m,\u001b[49m\u001b[43mvalidation_steps\u001b[49m\u001b[38;5;241;43m=\u001b[39;49m\u001b[38;5;241;43m16\u001b[39;49m\u001b[43m,\u001b[49m\u001b[43minitial_epoch\u001b[49m\u001b[38;5;241;43m=\u001b[39;49m\u001b[38;5;241;43m0\u001b[39;49m\u001b[43m,\u001b[49m\u001b[43mcallbacks\u001b[49m\u001b[38;5;241;43m=\u001b[39;49m\u001b[43mcallbacks\u001b[49m\u001b[43m)\u001b[49m\n",
      "File \u001b[0;32m~/.conda/envs/data_mining/lib/python3.8/site-packages/tensorflow/python/keras/engine/training.py:1050\u001b[0m, in \u001b[0;36mModel.fit\u001b[0;34m(self, x, y, batch_size, epochs, verbose, callbacks, validation_split, validation_data, shuffle, class_weight, sample_weight, initial_epoch, steps_per_epoch, validation_steps, validation_batch_size, validation_freq, max_queue_size, workers, use_multiprocessing)\u001b[0m\n\u001b[1;32m   1044\u001b[0m   val_x, val_y, val_sample_weight \u001b[38;5;241m=\u001b[39m (\n\u001b[1;32m   1045\u001b[0m       data_adapter\u001b[38;5;241m.\u001b[39munpack_x_y_sample_weight(validation_data))\n\u001b[1;32m   1047\u001b[0m \u001b[38;5;28;01mwith\u001b[39;00m \u001b[38;5;28mself\u001b[39m\u001b[38;5;241m.\u001b[39mdistribute_strategy\u001b[38;5;241m.\u001b[39mscope(), \\\n\u001b[1;32m   1048\u001b[0m      training_utils\u001b[38;5;241m.\u001b[39mRespectCompiledTrainableState(\u001b[38;5;28mself\u001b[39m):\n\u001b[1;32m   1049\u001b[0m   \u001b[38;5;66;03m# Creates a `tf.data.Dataset` and handles batch and epoch iteration.\u001b[39;00m\n\u001b[0;32m-> 1050\u001b[0m   data_handler \u001b[38;5;241m=\u001b[39m \u001b[43mdata_adapter\u001b[49m\u001b[38;5;241;43m.\u001b[39;49m\u001b[43mDataHandler\u001b[49m\u001b[43m(\u001b[49m\n\u001b[1;32m   1051\u001b[0m \u001b[43m      \u001b[49m\u001b[43mx\u001b[49m\u001b[38;5;241;43m=\u001b[39;49m\u001b[43mx\u001b[49m\u001b[43m,\u001b[49m\n\u001b[1;32m   1052\u001b[0m \u001b[43m      \u001b[49m\u001b[43my\u001b[49m\u001b[38;5;241;43m=\u001b[39;49m\u001b[43my\u001b[49m\u001b[43m,\u001b[49m\n\u001b[1;32m   1053\u001b[0m \u001b[43m      \u001b[49m\u001b[43msample_weight\u001b[49m\u001b[38;5;241;43m=\u001b[39;49m\u001b[43msample_weight\u001b[49m\u001b[43m,\u001b[49m\n\u001b[1;32m   1054\u001b[0m \u001b[43m      \u001b[49m\u001b[43mbatch_size\u001b[49m\u001b[38;5;241;43m=\u001b[39;49m\u001b[43mbatch_size\u001b[49m\u001b[43m,\u001b[49m\n\u001b[1;32m   1055\u001b[0m \u001b[43m      \u001b[49m\u001b[43msteps_per_epoch\u001b[49m\u001b[38;5;241;43m=\u001b[39;49m\u001b[43msteps_per_epoch\u001b[49m\u001b[43m,\u001b[49m\n\u001b[1;32m   1056\u001b[0m \u001b[43m      \u001b[49m\u001b[43minitial_epoch\u001b[49m\u001b[38;5;241;43m=\u001b[39;49m\u001b[43minitial_epoch\u001b[49m\u001b[43m,\u001b[49m\n\u001b[1;32m   1057\u001b[0m \u001b[43m      \u001b[49m\u001b[43mepochs\u001b[49m\u001b[38;5;241;43m=\u001b[39;49m\u001b[43mepochs\u001b[49m\u001b[43m,\u001b[49m\n\u001b[1;32m   1058\u001b[0m \u001b[43m      \u001b[49m\u001b[43mshuffle\u001b[49m\u001b[38;5;241;43m=\u001b[39;49m\u001b[43mshuffle\u001b[49m\u001b[43m,\u001b[49m\n\u001b[1;32m   1059\u001b[0m \u001b[43m      \u001b[49m\u001b[43mclass_weight\u001b[49m\u001b[38;5;241;43m=\u001b[39;49m\u001b[43mclass_weight\u001b[49m\u001b[43m,\u001b[49m\n\u001b[1;32m   1060\u001b[0m \u001b[43m      \u001b[49m\u001b[43mmax_queue_size\u001b[49m\u001b[38;5;241;43m=\u001b[39;49m\u001b[43mmax_queue_size\u001b[49m\u001b[43m,\u001b[49m\n\u001b[1;32m   1061\u001b[0m \u001b[43m      \u001b[49m\u001b[43mworkers\u001b[49m\u001b[38;5;241;43m=\u001b[39;49m\u001b[43mworkers\u001b[49m\u001b[43m,\u001b[49m\n\u001b[1;32m   1062\u001b[0m \u001b[43m      \u001b[49m\u001b[43muse_multiprocessing\u001b[49m\u001b[38;5;241;43m=\u001b[39;49m\u001b[43muse_multiprocessing\u001b[49m\u001b[43m,\u001b[49m\n\u001b[1;32m   1063\u001b[0m \u001b[43m      \u001b[49m\u001b[43mmodel\u001b[49m\u001b[38;5;241;43m=\u001b[39;49m\u001b[38;5;28;43mself\u001b[39;49m\u001b[43m,\u001b[49m\n\u001b[1;32m   1064\u001b[0m \u001b[43m      \u001b[49m\u001b[43msteps_per_execution\u001b[49m\u001b[38;5;241;43m=\u001b[39;49m\u001b[38;5;28;43mself\u001b[39;49m\u001b[38;5;241;43m.\u001b[39;49m\u001b[43m_steps_per_execution\u001b[49m\u001b[43m)\u001b[49m\n\u001b[1;32m   1066\u001b[0m   \u001b[38;5;66;03m# Container that configures and calls `tf.keras.Callback`s.\u001b[39;00m\n\u001b[1;32m   1067\u001b[0m   \u001b[38;5;28;01mif\u001b[39;00m \u001b[38;5;129;01mnot\u001b[39;00m \u001b[38;5;28misinstance\u001b[39m(callbacks, callbacks_module\u001b[38;5;241m.\u001b[39mCallbackList):\n",
      "File \u001b[0;32m~/.conda/envs/data_mining/lib/python3.8/site-packages/tensorflow/python/keras/engine/data_adapter.py:1100\u001b[0m, in \u001b[0;36mDataHandler.__init__\u001b[0;34m(self, x, y, sample_weight, batch_size, steps_per_epoch, initial_epoch, epochs, shuffle, class_weight, max_queue_size, workers, use_multiprocessing, model, steps_per_execution)\u001b[0m\n\u001b[1;32m   1097\u001b[0m   \u001b[38;5;28mself\u001b[39m\u001b[38;5;241m.\u001b[39m_steps_per_execution_value \u001b[38;5;241m=\u001b[39m steps_per_execution\u001b[38;5;241m.\u001b[39mnumpy()\u001b[38;5;241m.\u001b[39mitem()\n\u001b[1;32m   1099\u001b[0m adapter_cls \u001b[38;5;241m=\u001b[39m select_data_adapter(x, y)\n\u001b[0;32m-> 1100\u001b[0m \u001b[38;5;28mself\u001b[39m\u001b[38;5;241m.\u001b[39m_adapter \u001b[38;5;241m=\u001b[39m \u001b[43madapter_cls\u001b[49m\u001b[43m(\u001b[49m\n\u001b[1;32m   1101\u001b[0m \u001b[43m    \u001b[49m\u001b[43mx\u001b[49m\u001b[43m,\u001b[49m\n\u001b[1;32m   1102\u001b[0m \u001b[43m    \u001b[49m\u001b[43my\u001b[49m\u001b[43m,\u001b[49m\n\u001b[1;32m   1103\u001b[0m \u001b[43m    \u001b[49m\u001b[43mbatch_size\u001b[49m\u001b[38;5;241;43m=\u001b[39;49m\u001b[43mbatch_size\u001b[49m\u001b[43m,\u001b[49m\n\u001b[1;32m   1104\u001b[0m \u001b[43m    \u001b[49m\u001b[43msteps\u001b[49m\u001b[38;5;241;43m=\u001b[39;49m\u001b[43msteps_per_epoch\u001b[49m\u001b[43m,\u001b[49m\n\u001b[1;32m   1105\u001b[0m \u001b[43m    \u001b[49m\u001b[43mepochs\u001b[49m\u001b[38;5;241;43m=\u001b[39;49m\u001b[43mepochs\u001b[49m\u001b[43m \u001b[49m\u001b[38;5;241;43m-\u001b[39;49m\u001b[43m \u001b[49m\u001b[43minitial_epoch\u001b[49m\u001b[43m,\u001b[49m\n\u001b[1;32m   1106\u001b[0m \u001b[43m    \u001b[49m\u001b[43msample_weights\u001b[49m\u001b[38;5;241;43m=\u001b[39;49m\u001b[43msample_weight\u001b[49m\u001b[43m,\u001b[49m\n\u001b[1;32m   1107\u001b[0m \u001b[43m    \u001b[49m\u001b[43mshuffle\u001b[49m\u001b[38;5;241;43m=\u001b[39;49m\u001b[43mshuffle\u001b[49m\u001b[43m,\u001b[49m\n\u001b[1;32m   1108\u001b[0m \u001b[43m    \u001b[49m\u001b[43mmax_queue_size\u001b[49m\u001b[38;5;241;43m=\u001b[39;49m\u001b[43mmax_queue_size\u001b[49m\u001b[43m,\u001b[49m\n\u001b[1;32m   1109\u001b[0m \u001b[43m    \u001b[49m\u001b[43mworkers\u001b[49m\u001b[38;5;241;43m=\u001b[39;49m\u001b[43mworkers\u001b[49m\u001b[43m,\u001b[49m\n\u001b[1;32m   1110\u001b[0m \u001b[43m    \u001b[49m\u001b[43muse_multiprocessing\u001b[49m\u001b[38;5;241;43m=\u001b[39;49m\u001b[43muse_multiprocessing\u001b[49m\u001b[43m,\u001b[49m\n\u001b[1;32m   1111\u001b[0m \u001b[43m    \u001b[49m\u001b[43mdistribution_strategy\u001b[49m\u001b[38;5;241;43m=\u001b[39;49m\u001b[43mds_context\u001b[49m\u001b[38;5;241;43m.\u001b[39;49m\u001b[43mget_strategy\u001b[49m\u001b[43m(\u001b[49m\u001b[43m)\u001b[49m\u001b[43m,\u001b[49m\n\u001b[1;32m   1112\u001b[0m \u001b[43m    \u001b[49m\u001b[43mmodel\u001b[49m\u001b[38;5;241;43m=\u001b[39;49m\u001b[43mmodel\u001b[49m\u001b[43m)\u001b[49m\n\u001b[1;32m   1114\u001b[0m strategy \u001b[38;5;241m=\u001b[39m ds_context\u001b[38;5;241m.\u001b[39mget_strategy()\n\u001b[1;32m   1115\u001b[0m dataset \u001b[38;5;241m=\u001b[39m \u001b[38;5;28mself\u001b[39m\u001b[38;5;241m.\u001b[39m_adapter\u001b[38;5;241m.\u001b[39mget_dataset()\n",
      "File \u001b[0;32m~/.conda/envs/data_mining/lib/python3.8/site-packages/tensorflow/python/keras/engine/data_adapter.py:779\u001b[0m, in \u001b[0;36mGeneratorDataAdapter.__init__\u001b[0;34m(self, x, y, sample_weights, workers, use_multiprocessing, max_queue_size, model, **kwargs)\u001b[0m\n\u001b[1;32m    775\u001b[0m \u001b[38;5;28msuper\u001b[39m(GeneratorDataAdapter, \u001b[38;5;28mself\u001b[39m)\u001b[38;5;241m.\u001b[39m\u001b[38;5;21m__init__\u001b[39m(x, y, \u001b[38;5;241m*\u001b[39m\u001b[38;5;241m*\u001b[39mkwargs)\n\u001b[1;32m    777\u001b[0m \u001b[38;5;66;03m# Since we have to know the dtype of the python generator when we build the\u001b[39;00m\n\u001b[1;32m    778\u001b[0m \u001b[38;5;66;03m# dataset, we have to look at a batch to infer the structure.\u001b[39;00m\n\u001b[0;32m--> 779\u001b[0m peek, x \u001b[38;5;241m=\u001b[39m \u001b[38;5;28;43mself\u001b[39;49m\u001b[38;5;241;43m.\u001b[39;49m\u001b[43m_peek_and_restore\u001b[49m\u001b[43m(\u001b[49m\u001b[43mx\u001b[49m\u001b[43m)\u001b[49m\n\u001b[1;32m    780\u001b[0m peek \u001b[38;5;241m=\u001b[39m \u001b[38;5;28mself\u001b[39m\u001b[38;5;241m.\u001b[39m_standardize_batch(peek)\n\u001b[1;32m    781\u001b[0m peek \u001b[38;5;241m=\u001b[39m _process_tensorlike(peek)\n",
      "File \u001b[0;32m~/.conda/envs/data_mining/lib/python3.8/site-packages/tensorflow/python/keras/engine/data_adapter.py:836\u001b[0m, in \u001b[0;36mGeneratorDataAdapter._peek_and_restore\u001b[0;34m(x)\u001b[0m\n\u001b[1;32m    834\u001b[0m \u001b[38;5;129m@staticmethod\u001b[39m\n\u001b[1;32m    835\u001b[0m \u001b[38;5;28;01mdef\u001b[39;00m \u001b[38;5;21m_peek_and_restore\u001b[39m(x):\n\u001b[0;32m--> 836\u001b[0m   peek \u001b[38;5;241m=\u001b[39m \u001b[38;5;28;43mnext\u001b[39;49m\u001b[43m(\u001b[49m\u001b[43mx\u001b[49m\u001b[43m)\u001b[49m\n\u001b[1;32m    837\u001b[0m   \u001b[38;5;28;01mreturn\u001b[39;00m peek, itertools\u001b[38;5;241m.\u001b[39mchain([peek], x)\n",
      "Input \u001b[0;32mIn [166]\u001b[0m, in \u001b[0;36mmodel.data_gen\u001b[0;34m(self, images, targets, batch_size)\u001b[0m\n\u001b[1;32m     19\u001b[0m tgt \u001b[38;5;241m=\u001b[39m np\u001b[38;5;241m.\u001b[39mzeros((batch_size))\u001b[38;5;241m.\u001b[39mastype(\u001b[38;5;124m'\u001b[39m\u001b[38;5;124mfloat\u001b[39m\u001b[38;5;124m'\u001b[39m)\n\u001b[1;32m     21\u001b[0m \u001b[38;5;28;01mfor\u001b[39;00m i \u001b[38;5;129;01min\u001b[39;00m \u001b[38;5;28mrange\u001b[39m(c, c\u001b[38;5;241m+\u001b[39mbatch_size): \n\u001b[0;32m---> 22\u001b[0m     train_img \u001b[38;5;241m=\u001b[39m nib\u001b[38;5;241m.\u001b[39mload(\u001b[43mimages\u001b[49m\u001b[43m[\u001b[49m\u001b[43mn\u001b[49m\u001b[43m[\u001b[49m\u001b[43mi\u001b[49m\u001b[43m]\u001b[49m\u001b[43m]\u001b[49m)\u001b[38;5;241m.\u001b[39mget_data()\n\u001b[1;32m     23\u001b[0m     train_img\u001b[38;5;241m=\u001b[39mnp\u001b[38;5;241m.\u001b[39mexpand_dims(train_img,\u001b[38;5;241m-\u001b[39m\u001b[38;5;241m1\u001b[39m)\n\u001b[1;32m     24\u001b[0m     img[i\u001b[38;5;241m-\u001b[39mc]\u001b[38;5;241m=\u001b[39mtrain_img\n",
      "File \u001b[0;32m~/.local/lib/python3.8/site-packages/pandas/core/frame.py:3458\u001b[0m, in \u001b[0;36mDataFrame.__getitem__\u001b[0;34m(self, key)\u001b[0m\n\u001b[1;32m   3456\u001b[0m \u001b[38;5;28;01mif\u001b[39;00m \u001b[38;5;28mself\u001b[39m\u001b[38;5;241m.\u001b[39mcolumns\u001b[38;5;241m.\u001b[39mnlevels \u001b[38;5;241m>\u001b[39m \u001b[38;5;241m1\u001b[39m:\n\u001b[1;32m   3457\u001b[0m     \u001b[38;5;28;01mreturn\u001b[39;00m \u001b[38;5;28mself\u001b[39m\u001b[38;5;241m.\u001b[39m_getitem_multilevel(key)\n\u001b[0;32m-> 3458\u001b[0m indexer \u001b[38;5;241m=\u001b[39m \u001b[38;5;28;43mself\u001b[39;49m\u001b[38;5;241;43m.\u001b[39;49m\u001b[43mcolumns\u001b[49m\u001b[38;5;241;43m.\u001b[39;49m\u001b[43mget_loc\u001b[49m\u001b[43m(\u001b[49m\u001b[43mkey\u001b[49m\u001b[43m)\u001b[49m\n\u001b[1;32m   3459\u001b[0m \u001b[38;5;28;01mif\u001b[39;00m is_integer(indexer):\n\u001b[1;32m   3460\u001b[0m     indexer \u001b[38;5;241m=\u001b[39m [indexer]\n",
      "File \u001b[0;32m~/.local/lib/python3.8/site-packages/pandas/core/indexes/base.py:3363\u001b[0m, in \u001b[0;36mIndex.get_loc\u001b[0;34m(self, key, method, tolerance)\u001b[0m\n\u001b[1;32m   3361\u001b[0m         \u001b[38;5;28;01mreturn\u001b[39;00m \u001b[38;5;28mself\u001b[39m\u001b[38;5;241m.\u001b[39m_engine\u001b[38;5;241m.\u001b[39mget_loc(casted_key)\n\u001b[1;32m   3362\u001b[0m     \u001b[38;5;28;01mexcept\u001b[39;00m \u001b[38;5;167;01mKeyError\u001b[39;00m \u001b[38;5;28;01mas\u001b[39;00m err:\n\u001b[0;32m-> 3363\u001b[0m         \u001b[38;5;28;01mraise\u001b[39;00m \u001b[38;5;167;01mKeyError\u001b[39;00m(key) \u001b[38;5;28;01mfrom\u001b[39;00m \u001b[38;5;21;01merr\u001b[39;00m\n\u001b[1;32m   3365\u001b[0m \u001b[38;5;28;01mif\u001b[39;00m is_scalar(key) \u001b[38;5;129;01mand\u001b[39;00m isna(key) \u001b[38;5;129;01mand\u001b[39;00m \u001b[38;5;129;01mnot\u001b[39;00m \u001b[38;5;28mself\u001b[39m\u001b[38;5;241m.\u001b[39mhasnans:\n\u001b[1;32m   3366\u001b[0m     \u001b[38;5;28;01mraise\u001b[39;00m \u001b[38;5;167;01mKeyError\u001b[39;00m(key)\n",
      "\u001b[0;31mKeyError\u001b[0m: 620"
     ]
    }
   ],
   "source": [
    "nn.training(10)"
   ]
  },
  {
   "cell_type": "code",
   "execution_count": null,
   "id": "fe041360-f749-458e-9dc7-f3a02adf9220",
   "metadata": {},
   "outputs": [],
   "source": []
  }
 ],
 "metadata": {
  "kernelspec": {
   "display_name": "data_mining",
   "language": "python",
   "name": "data_mining"
  },
  "language_info": {
   "codemirror_mode": {
    "name": "ipython",
    "version": 3
   },
   "file_extension": ".py",
   "mimetype": "text/x-python",
   "name": "python",
   "nbconvert_exporter": "python",
   "pygments_lexer": "ipython3",
   "version": "3.8.12"
  }
 },
 "nbformat": 4,
 "nbformat_minor": 5
}
